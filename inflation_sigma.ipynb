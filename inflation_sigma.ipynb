{
 "cells": [
  {
   "cell_type": "code",
   "execution_count": 1,
   "id": "46ca47cc",
   "metadata": {},
   "outputs": [],
   "source": [
    "import numpy as np\n",
    "import pandas as pd"
   ]
  },
  {
   "cell_type": "code",
   "execution_count": 2,
   "id": "733b42df",
   "metadata": {},
   "outputs": [],
   "source": [
    "fed = pd.read_csv(\"realdata/FEDFUNDS.csv\")\n",
    "pce = pd.read_csv(\"realdata/EXPINF1YR.csv\")"
   ]
  },
  {
   "cell_type": "code",
   "execution_count": 3,
   "id": "3953668d",
   "metadata": {},
   "outputs": [],
   "source": [
    "X = fed[\"FEDFUNDS\"].values\n",
    "y = pce[\"EXPINF1YR\"].values"
   ]
  },
  {
   "cell_type": "code",
   "execution_count": 4,
   "id": "90696332",
   "metadata": {},
   "outputs": [],
   "source": [
    "CP1 = 32\n",
    "CP2 = 62\n",
    "CP3 = 87\n",
    "CP4 = 92\n",
    "BETA = -0.68\n",
    "ALPHA = np.full(len(y), 1.8234)\n",
    "ALPHA[CP1:] = 3.1821\n",
    "ALPHA[CP2:] = 1.7912\n",
    "ALPHA[CP3:] = 4.4477\n",
    "ALPHA[CP4:] = 5.8484\n",
    "\n",
    "y_hat = ALPHA + BETA * X\n",
    "res = y - y_hat\n",
    "SIGMA = (res.T @ res / len(y)) ** 0.5"
   ]
  },
  {
   "cell_type": "code",
   "execution_count": 5,
   "id": "6fd0564a",
   "metadata": {},
   "outputs": [
    {
     "data": {
      "text/plain": [
       "0.5287664053474966"
      ]
     },
     "execution_count": 5,
     "metadata": {},
     "output_type": "execute_result"
    }
   ],
   "source": [
    "SIGMA"
   ]
  }
 ],
 "metadata": {
  "kernelspec": {
   "display_name": "Python 3",
   "language": "python",
   "name": "python3"
  },
  "language_info": {
   "codemirror_mode": {
    "name": "ipython",
    "version": 3
   },
   "file_extension": ".py",
   "mimetype": "text/x-python",
   "name": "python",
   "nbconvert_exporter": "python",
   "pygments_lexer": "ipython3",
   "version": "3.11.4"
  }
 },
 "nbformat": 4,
 "nbformat_minor": 5
}
