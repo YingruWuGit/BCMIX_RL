{
 "cells": [
  {
   "cell_type": "code",
   "execution_count": null,
   "id": "29ecf63c",
   "metadata": {},
   "outputs": [],
   "source": [
    "import numpy as np\n",
    "import optuna\n",
    "import matplotlib.pyplot as plt\n",
    "from bcmix import *"
   ]
  },
  {
   "cell_type": "code",
   "execution_count": null,
   "id": "5a04b1e6",
   "metadata": {},
   "outputs": [],
   "source": [
    "ACTION_RANGE = (-5.0, 5.0)\n",
    "N_TRIALS = 100\n",
    "DATA_LEN = 8"
   ]
  },
  {
   "cell_type": "code",
   "execution_count": null,
   "id": "84b57d53",
   "metadata": {},
   "outputs": [],
   "source": [
    "# prior\n",
    "canonical_0 = np.array([[0.0], [0.0]])\n",
    "precision_0 = np.array([[1.0, 0.0], [0.0, 1.0]])\n",
    "covm_0 = np.linalg.inv(precision_0)\n",
    "mean_0 = covm_0 @ canonical_0\n",
    "\n",
    "# true value\n",
    "#alpha, beta = np.random.multivariate_normal(mean_0.flatten(), covm_0)\n",
    "alpha, beta = 1.8, -2.4\n",
    "print(alpha, beta, myopic(canonical_0, precision_0))"
   ]
  },
  {
   "cell_type": "markdown",
   "id": "27869218",
   "metadata": {},
   "source": [
    "### Rollout"
   ]
  },
  {
   "cell_type": "code",
   "execution_count": null,
   "id": "48154ce1",
   "metadata": {},
   "outputs": [],
   "source": [
    "def objective(trial):\n",
    "    a = trial.suggest_float('a', ACTION_RANGE[0], ACTION_RANGE[1])\n",
    "    q = q_myopic_without_change(canonical_i, precision_i, a, alpha, beta)\n",
    "    return q"
   ]
  },
  {
   "cell_type": "code",
   "execution_count": null,
   "id": "ab471687",
   "metadata": {},
   "outputs": [],
   "source": [
    "for i in range(2):\n",
    "    # initialize\n",
    "    simresult_i = np.full((DATA_LEN * N_TRIALS, 7), np.nan)\n",
    "    canonical_i, precision_i = canonical_0, precision_0\n",
    "    for j in range(DATA_LEN):\n",
    "        # current state\n",
    "        covm_i = np.linalg.inv(precision_i)\n",
    "        mean_i = covm_i @ canonical_i\n",
    "        js = j * N_TRIALS\n",
    "        je = j * N_TRIALS + N_TRIALS\n",
    "        simresult_i[js : je, 0] = mean_i[0][0]\n",
    "        simresult_i[js : je, 1] = mean_i[1][0]\n",
    "        simresult_i[js : je, 2] = covm_i[0][0]\n",
    "        simresult_i[js : je, 3] = covm_i[0][1]\n",
    "        simresult_i[js : je, 4] = covm_i[1][1]\n",
    "        # select action\n",
    "        study = optuna.create_study(direction=\"maximize\")\n",
    "        study.optimize(objective, n_trials=N_TRIALS)\n",
    "        simresult_i[js : je, 5] = [_.params['a'] for _ in study.trials]\n",
    "        simresult_i[js : je, 6] = [_.value for _ in study.trials]\n",
    "        a = study.best_trial.params['a']\n",
    "        # update state\n",
    "        y = env_response(a, alpha, beta)[0]\n",
    "        canonical_i, precision_i = update_without_change(canonical_i, precision_i, a, y)\n",
    "    np.save(\"simulations\\rolloutnocg\\simresult_\" + str(i) + \".npy\", simresult_i)"
   ]
  },
  {
   "cell_type": "code",
   "execution_count": null,
   "id": "82d4fe78",
   "metadata": {},
   "outputs": [],
   "source": [
    "simresult_i = np.load(\"simulations\\rolloutnocg\\simresult_0.npy\")"
   ]
  },
  {
   "cell_type": "code",
   "execution_count": null,
   "id": "0d323b58",
   "metadata": {},
   "outputs": [],
   "source": [
    "# plot Q values\n",
    "plt.plot([simresult_i[(_ * N_TRIALS) : (_ * N_TRIALS + N_TRIALS), 6].max() for _ in range(DATA_LEN)])"
   ]
  },
  {
   "cell_type": "code",
   "execution_count": null,
   "id": "32eff61a",
   "metadata": {},
   "outputs": [],
   "source": [
    "# plot alpha estimations\n",
    "plt.plot([simresult_i[(_ * N_TRIALS) : (_ * N_TRIALS + N_TRIALS), 0].max() for _ in range(DATA_LEN)])"
   ]
  },
  {
   "cell_type": "code",
   "execution_count": null,
   "id": "43a12c1b",
   "metadata": {},
   "outputs": [],
   "source": [
    "# plot beta estimations\n",
    "plt.plot([simresult_i[(_ * N_TRIALS) : (_ * N_TRIALS + N_TRIALS), 1].max() for _ in range(DATA_LEN)])"
   ]
  },
  {
   "cell_type": "code",
   "execution_count": null,
   "id": "ee80fdb4",
   "metadata": {},
   "outputs": [],
   "source": []
  }
 ],
 "metadata": {
  "kernelspec": {
   "display_name": "Python 3",
   "language": "python",
   "name": "python3"
  },
  "language_info": {
   "codemirror_mode": {
    "name": "ipython",
    "version": 3
   },
   "file_extension": ".py",
   "mimetype": "text/x-python",
   "name": "python",
   "nbconvert_exporter": "python",
   "pygments_lexer": "ipython3",
   "version": "3.11.4"
  }
 },
 "nbformat": 4,
 "nbformat_minor": 5
}
