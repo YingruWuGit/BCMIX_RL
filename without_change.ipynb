{
 "cells": [
  {
   "cell_type": "code",
   "execution_count": null,
   "id": "29ecf63c",
   "metadata": {},
   "outputs": [],
   "source": [
    "import numpy as np\n",
    "import optuna\n",
    "import matplotlib.pyplot as plt\n",
    "from bcmix import *"
   ]
  },
  {
   "cell_type": "code",
   "execution_count": null,
   "id": "5a04b1e6",
   "metadata": {},
   "outputs": [],
   "source": [
    "ACTION_RANGE = (-5.0, 5.0)\n",
    "N_TRIALS = 50\n",
    "DATA_LEN = 80\n",
    "GAMMA = 0.9"
   ]
  },
  {
   "cell_type": "code",
   "execution_count": null,
   "id": "84b57d53",
   "metadata": {},
   "outputs": [],
   "source": [
    "# true value\n",
    "alpha, beta = 1.8, -2.4\n",
    "\n",
    "# prior\n",
    "canonical_0 = np.array([[0.0], [0.0]])\n",
    "precision_0 = np.array([[1.0, 0.0], [0.0, 1.0]])\n",
    "\n",
    "print(alpha, beta, myopic(canonical_0, precision_0))"
   ]
  },
  {
   "cell_type": "markdown",
   "id": "27869218",
   "metadata": {},
   "source": [
    "### Rollout"
   ]
  },
  {
   "cell_type": "code",
   "execution_count": null,
   "id": "48154ce1",
   "metadata": {},
   "outputs": [],
   "source": [
    "def objective(trial):\n",
    "    a = trial.suggest_float('a', ACTION_RANGE[0], ACTION_RANGE[1])\n",
    "    q = q_myopic_without_change(canonical_i, precision_i, a, alpha, beta)\n",
    "    return q"
   ]
  },
  {
   "cell_type": "code",
   "execution_count": null,
   "id": "ab471687",
   "metadata": {},
   "outputs": [],
   "source": [
    "for i in range(100):\n",
    "    # initialize\n",
    "    simresult_i = np.full((DATA_LEN * N_TRIALS, 7), np.nan)\n",
    "    canonical_i, precision_i = canonical_0, precision_0\n",
    "    for j in range(DATA_LEN):\n",
    "        # current state\n",
    "        covm_i = np.linalg.inv(precision_i)\n",
    "        mean_i = covm_i @ canonical_i\n",
    "        js = j * N_TRIALS\n",
    "        je = j * N_TRIALS + N_TRIALS\n",
    "        simresult_i[js : je, 0] = mean_i[0][0]\n",
    "        simresult_i[js : je, 1] = mean_i[1][0]\n",
    "        simresult_i[js : je, 2] = covm_i[0][0]\n",
    "        simresult_i[js : je, 3] = covm_i[0][1]\n",
    "        simresult_i[js : je, 4] = covm_i[1][1]\n",
    "        # select action\n",
    "        study = optuna.create_study(direction=\"maximize\")\n",
    "        study.optimize(objective, n_trials=N_TRIALS)\n",
    "        simresult_i[js : je, 5] = [_.params['a'] for _ in study.trials]\n",
    "        simresult_i[js : je, 6] = [_.value for _ in study.trials]\n",
    "        a = study.best_trial.params['a']\n",
    "        # update state\n",
    "        y = env_response(a, alpha, beta)[0]\n",
    "        canonical_i, precision_i = update_without_change(canonical_i, precision_i, a, y)\n",
    "    np.save(\"simulations\\sim_rollnoch_\" + str(i) + \".npy\", simresult_i)"
   ]
  },
  {
   "cell_type": "markdown",
   "id": "0e4cb07c",
   "metadata": {},
   "source": [
    "### Plots"
   ]
  },
  {
   "cell_type": "code",
   "execution_count": null,
   "id": "82d4fe78",
   "metadata": {},
   "outputs": [],
   "source": [
    "qvalues = np.full((100, DATA_LEN), np.nan)\n",
    "regrets = np.full((100, DATA_LEN), np.nan)\n",
    "for i in range(100):\n",
    "    simresult_i = np.load(\"simulations\\sim_rollnoch_\" + str(i) + \".npy\")\n",
    "    for j in range(DATA_LEN):\n",
    "        simresult_ij = simresult_i[(j * N_TRIALS) : (j * N_TRIALS + N_TRIALS)]\n",
    "        best = np.argmax(simresult_ij[:, 6])\n",
    "        qvalues[i, j] = simresult_ij[best, 6]\n",
    "        regrets[i, j] = (GAMMA ** j) * (alpha + simresult_ij[best, 5] * beta) ** 2"
   ]
  },
  {
   "cell_type": "code",
   "execution_count": null,
   "id": "ee80fdb4",
   "metadata": {},
   "outputs": [],
   "source": [
    "# plot Q values\n",
    "plt.plot(qvalues.mean(axis=0))"
   ]
  },
  {
   "cell_type": "code",
   "execution_count": null,
   "id": "cf459a0e",
   "metadata": {},
   "outputs": [],
   "source": [
    "# plot regret\n",
    "plt.plot(np.cumsum(regrets.mean(axis=0)))"
   ]
  },
  {
   "cell_type": "code",
   "execution_count": null,
   "id": "fc7d5f22",
   "metadata": {},
   "outputs": [],
   "source": []
  }
 ],
 "metadata": {
  "kernelspec": {
   "display_name": "Python 3",
   "language": "python",
   "name": "python3"
  },
  "language_info": {
   "codemirror_mode": {
    "name": "ipython",
    "version": 3
   },
   "file_extension": ".py",
   "mimetype": "text/x-python",
   "name": "python",
   "nbconvert_exporter": "python",
   "pygments_lexer": "ipython3",
   "version": "3.11.4"
  }
 },
 "nbformat": 4,
 "nbformat_minor": 5
}
