{
 "cells": [
  {
   "cell_type": "code",
   "execution_count": null,
   "id": "29ecf63c",
   "metadata": {},
   "outputs": [],
   "source": [
    "import numpy as np\n",
    "import optuna\n",
    "import json\n",
    "import matplotlib.pyplot as plt\n",
    "from bcmix import *"
   ]
  },
  {
   "cell_type": "code",
   "execution_count": null,
   "id": "5a04b1e6",
   "metadata": {},
   "outputs": [],
   "source": [
    "ACTION_RANGE = (-5.0, 5.0)\n",
    "N_TRIALS = 100\n",
    "DATA_LEN = 8"
   ]
  },
  {
   "cell_type": "code",
   "execution_count": null,
   "id": "84b57d53",
   "metadata": {},
   "outputs": [],
   "source": [
    "np.random.seed(16)\n",
    "\n",
    "# prior\n",
    "canonical_0 = np.array([[0.0], [0.0]])\n",
    "precision_0 = np.array([[1.0, 0.0], [0.0, 1.0]])\n",
    "covm_0 = np.linalg.inv(precision_0)\n",
    "mean_0 = covm_0 @ canonical_0\n",
    "\n",
    "# true value\n",
    "#alpha, beta = np.random.multivariate_normal(mean_0.flatten(), covm_0)\n",
    "alpha, beta = 1.8, -2.4\n",
    "print(alpha, beta, myopic(canonical_0, precision_0))"
   ]
  },
  {
   "cell_type": "markdown",
   "id": "27869218",
   "metadata": {},
   "source": [
    "### Rollout"
   ]
  },
  {
   "cell_type": "code",
   "execution_count": null,
   "id": "48154ce1",
   "metadata": {},
   "outputs": [],
   "source": [
    "def objective(trial):\n",
    "    a = trial.suggest_float('a', ACTION_RANGE[0], ACTION_RANGE[1])\n",
    "    q = q_myopic_without_change(canonical_i, precision_i, a, alpha, beta)\n",
    "    return q"
   ]
  },
  {
   "cell_type": "code",
   "execution_count": null,
   "id": "b6b2d496",
   "metadata": {},
   "outputs": [],
   "source": [
    "np.random.seed(None)\n",
    "\n",
    "canonical_i, precision_i = canonical_0, precision_0\n",
    "states, actions, rewards, qvalues = [], [], [], []"
   ]
  },
  {
   "cell_type": "code",
   "execution_count": null,
   "id": "ab471687",
   "metadata": {},
   "outputs": [],
   "source": [
    "for _ in range(10):\n",
    "    canonical_i, precision_i = canonical_0, precision_0\n",
    "    states, actions, rewards, qvalues = [], [], [], []\n",
    "    for i in range(DATA_LEN):\n",
    "        # current state\n",
    "        covm_i = np.linalg.inv(precision_i)\n",
    "        mean_i = covm_i @ canonical_i\n",
    "        states.append((mean_i, covm_i))\n",
    "        # select action\n",
    "        study = optuna.create_study(direction=\"maximize\")\n",
    "        study.optimize(objective, n_trials=N_TRIALS)\n",
    "\n",
    "\n",
    "        \n",
    "        a = study.best_trial.params['a']\n",
    "        actions.append(a)\n",
    "        qvalues.append(study.best_trial.value)\n",
    "        # update state\n",
    "        y = env_response(a, alpha, beta)[0]\n",
    "        rewards.append(reward(a, y))\n",
    "        canonical_i, precision_i = update_without_change(canonical_i, precision_i, a, y)\n",
    "\"\"\"\n",
    "    with open(\"simulations/rollout_without_change.json\", 'a') as fout:\n",
    "        json.dump(\n",
    "            {\"states\": [s[0].flatten().tolist() + s[1].flatten().tolist() for s in states], \"actions\": actions, \"qvalues\": qvalues}, fout\n",
    "        )\n",
    "        fout.write('\\n')\n",
    "\"\"\""
   ]
  },
  {
   "cell_type": "code",
   "execution_count": null,
   "id": "e696d8dd",
   "metadata": {},
   "outputs": [],
   "source": [
    "results = []\n",
    "with open(\"simulations/rollout_without_change.json\") as fin:\n",
    "    for line in fin:\n",
    "        results.append(json.loads(line))"
   ]
  },
  {
   "cell_type": "code",
   "execution_count": null,
   "id": "bb605d85",
   "metadata": {},
   "outputs": [],
   "source": [
    "covm_i"
   ]
  },
  {
   "cell_type": "code",
   "execution_count": null,
   "id": "d62236ee",
   "metadata": {},
   "outputs": [],
   "source": [
    "study.trials[0]"
   ]
  },
  {
   "cell_type": "code",
   "execution_count": null,
   "id": "82d4fe78",
   "metadata": {},
   "outputs": [],
   "source": [
    "result = results[0]\n",
    "plt.plot(result[\"qvalues\"])"
   ]
  },
  {
   "cell_type": "code",
   "execution_count": null,
   "id": "0d323b58",
   "metadata": {},
   "outputs": [],
   "source": [
    "plt.plot([_[0] for _ in result[\"states\"]])"
   ]
  },
  {
   "cell_type": "code",
   "execution_count": null,
   "id": "32eff61a",
   "metadata": {},
   "outputs": [],
   "source": [
    "plt.plot([_[1] for _ in result[\"states\"]])"
   ]
  },
  {
   "cell_type": "markdown",
   "id": "b1714e83",
   "metadata": {},
   "source": [
    "### Simulate observed data"
   ]
  },
  {
   "cell_type": "code",
   "execution_count": null,
   "id": "86f1c66b",
   "metadata": {},
   "outputs": [],
   "source": [
    "xs = np.random.uniform(ACTION_RANGE[0], ACTION_RANGE[1], DATA_LEN)\n",
    "ys = np.array([env_response(x, alpha, beta)[0] for x in xs])"
   ]
  },
  {
   "cell_type": "code",
   "execution_count": null,
   "id": "ee80fdb4",
   "metadata": {},
   "outputs": [],
   "source": []
  }
 ],
 "metadata": {
  "kernelspec": {
   "display_name": "Python 3",
   "language": "python",
   "name": "python3"
  },
  "language_info": {
   "codemirror_mode": {
    "name": "ipython",
    "version": 3
   },
   "file_extension": ".py",
   "mimetype": "text/x-python",
   "name": "python",
   "nbconvert_exporter": "python",
   "pygments_lexer": "ipython3",
   "version": "3.11.4"
  }
 },
 "nbformat": 4,
 "nbformat_minor": 5
}
