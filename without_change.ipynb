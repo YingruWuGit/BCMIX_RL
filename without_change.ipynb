{
 "cells": [
  {
   "cell_type": "code",
   "execution_count": null,
   "id": "29ecf63c",
   "metadata": {},
   "outputs": [],
   "source": [
    "import optuna\n",
    "import numpy as np\n",
    "import matplotlib.pyplot as plt\n",
    "from bcmix import *"
   ]
  },
  {
   "cell_type": "code",
   "execution_count": null,
   "id": "5a04b1e6",
   "metadata": {},
   "outputs": [],
   "source": [
    "N_TRIALS = 20\n",
    "DATA_LEN = 81"
   ]
  },
  {
   "cell_type": "code",
   "execution_count": null,
   "id": "84b57d53",
   "metadata": {},
   "outputs": [],
   "source": [
    "# true value\n",
    "alpha, beta = -1.8, 2.2\n",
    "\n",
    "# prior\n",
    "canonical_0 = np.array([[0.0], [0.0]])\n",
    "precision_0 = np.array([[1.0, 0.0], [0.0, 1.0]])\n",
    "\n",
    "print(alpha, beta, myopic(canonical_0, precision_0))"
   ]
  },
  {
   "cell_type": "markdown",
   "id": "27869218",
   "metadata": {},
   "source": [
    "### Rollout"
   ]
  },
  {
   "cell_type": "code",
   "execution_count": null,
   "id": "48154ce1",
   "metadata": {},
   "outputs": [],
   "source": [
    "def objective(trial):\n",
    "    a = trial.suggest_float('a', ACTION_RANGE[0], ACTION_RANGE[1])\n",
    "    q = q_myopic_without_change(canonical_i, precision_i, a)\n",
    "    return q"
   ]
  },
  {
   "cell_type": "code",
   "execution_count": null,
   "id": "ab471687",
   "metadata": {},
   "outputs": [],
   "source": [
    "for i in range(10):\n",
    "    # initialize\n",
    "    simresult_i = np.full((DATA_LEN, 8), np.nan)\n",
    "    canonical_i, precision_i = canonical_0, precision_0\n",
    "    for j in range(DATA_LEN):\n",
    "        # current state\n",
    "        covm_i = np.linalg.inv(precision_i)\n",
    "        mean_i = covm_i @ canonical_i\n",
    "        simresult_i[j, 0] = mean_i[0][0]\n",
    "        simresult_i[j, 1] = mean_i[1][0]\n",
    "        simresult_i[j, 2] = covm_i[0][0]\n",
    "        simresult_i[j, 3] = covm_i[0][1]\n",
    "        simresult_i[j, 4] = covm_i[1][1]\n",
    "        # select action\n",
    "        x_m = myopic(canonical_i, precision_i)[0]\n",
    "        ACTION_RANGE = (x_m - 5, x_m + 5)\n",
    "        study = optuna.create_study(direction=\"maximize\")\n",
    "        study.optimize(objective, n_trials=N_TRIALS)\n",
    "        a = study.best_trial.params['a']\n",
    "        simresult_i[j, 5] = a\n",
    "        simresult_i[j, 6] = study.best_trial.value\n",
    "        # update state\n",
    "        y = env_response(a, alpha, beta)[0]\n",
    "        simresult_i[j, 7] = reward(a, y)\n",
    "        canonical_i, precision_i = update_without_change(canonical_i, precision_i, a, y)\n",
    "    np.save(\"simulations\\sim_nocp_\" + str(i) + \".npy\", simresult_i)"
   ]
  },
  {
   "cell_type": "markdown",
   "id": "0e4cb07c",
   "metadata": {},
   "source": [
    "### Plots"
   ]
  },
  {
   "cell_type": "code",
   "execution_count": null,
   "id": "15be7cb9",
   "metadata": {},
   "outputs": [],
   "source": [
    "reg = np.full(DATA_LEN, 0.0)\n",
    "mse = np.full(DATA_LEN, 0.0)\n",
    "\n",
    "for i in range(10):\n",
    "    simresult_i = np.load(\"simulations\\sim_nocp_\" + str(i) + \".npy\")\n",
    "    for j in range(DATA_LEN):\n",
    "        reg[j] += (GAMMA ** j) * (alpha + simresult_i[j, 5] * beta) ** 2\n",
    "        m_a = simresult_i[j, 0]\n",
    "        m_b = simresult_i[j, 1]\n",
    "        v_a = simresult_i[j, 2]\n",
    "        v_b = simresult_i[j, 4]\n",
    "        mse[j] += v_a + v_b + (m_a - alpha) ** 2 + (m_b - beta) ** 2\n",
    "\n",
    "reg /= 10\n",
    "mse /= 10"
   ]
  },
  {
   "cell_type": "code",
   "execution_count": null,
   "id": "cf459a0e",
   "metadata": {},
   "outputs": [],
   "source": [
    "# plot regret\n",
    "plt.plot(np.cumsum(reg))"
   ]
  },
  {
   "cell_type": "code",
   "execution_count": null,
   "id": "1cebaa29",
   "metadata": {},
   "outputs": [],
   "source": [
    "# plot mse\n",
    "plt.plot(mse)"
   ]
  },
  {
   "cell_type": "code",
   "execution_count": null,
   "id": "1eae24a3",
   "metadata": {},
   "outputs": [],
   "source": []
  }
 ],
 "metadata": {
  "kernelspec": {
   "display_name": "Python 3",
   "language": "python",
   "name": "python3"
  },
  "language_info": {
   "codemirror_mode": {
    "name": "ipython",
    "version": 3
   },
   "file_extension": ".py",
   "mimetype": "text/x-python",
   "name": "python",
   "nbconvert_exporter": "python",
   "pygments_lexer": "ipython3",
   "version": "3.11.4"
  }
 },
 "nbformat": 4,
 "nbformat_minor": 5
}
