{
 "cells": [
  {
   "cell_type": "code",
   "execution_count": null,
   "id": "46ca47cc",
   "metadata": {},
   "outputs": [],
   "source": [
    "import copy\n",
    "import optuna\n",
    "import numpy as np\n",
    "import pandas as pd\n",
    "import matplotlib.pyplot as plt\n",
    "from bcmix import *"
   ]
  },
  {
   "cell_type": "code",
   "execution_count": null,
   "id": "733b42df",
   "metadata": {},
   "outputs": [],
   "source": [
    "fed = pd.read_csv(\"realdata/FEDFUNDS.csv\")\n",
    "pce = pd.read_csv(\"realdata/EXPINF1YR.csv\")"
   ]
  },
  {
   "cell_type": "code",
   "execution_count": null,
   "id": "3953668d",
   "metadata": {},
   "outputs": [],
   "source": [
    "X = fed[\"FEDFUNDS\"].values\n",
    "y = pce[\"EXPINF1YR\"].values"
   ]
  },
  {
   "cell_type": "code",
   "execution_count": null,
   "id": "90696332",
   "metadata": {},
   "outputs": [],
   "source": [
    "CP1 = 32\n",
    "CP2 = 62\n",
    "CP3 = 87\n",
    "CP4 = 92\n",
    "BETA = -0.68\n",
    "ALPHA = np.full(len(y), 1.8234)\n",
    "ALPHA[CP1:] = 3.1821\n",
    "ALPHA[CP2:] = 1.7912\n",
    "ALPHA[CP3:] = 4.4477\n",
    "ALPHA[CP4:] = 5.8484\n",
    "\n",
    "y_hat = ALPHA + BETA * X\n",
    "res = y - y_hat\n",
    "SIGMA = (res.T @ res / len(y)) ** 0.5\n",
    "BETA /= SIGMA\n",
    "ALPHA /= SIGMA"
   ]
  },
  {
   "cell_type": "code",
   "execution_count": null,
   "id": "f119ce8c",
   "metadata": {},
   "outputs": [],
   "source": [
    "N_TRIALS = 10\n",
    "DATA_LEN = len(y)\n",
    "P = 0.02"
   ]
  },
  {
   "cell_type": "code",
   "execution_count": null,
   "id": "d668b00d",
   "metadata": {},
   "outputs": [],
   "source": [
    "mean_true = np.array([[3.33 / SIGMA], [-1.286]])\n",
    "covm_true = np.array([[1.0, 0.0], [0.0, 1.0]])\n",
    "# prior\n",
    "canonical_0 = np.array([[3.33 / SIGMA], [-1.286]])\n",
    "precision_0 = np.array([[1.0, 0.0], [0.0, 1.0]])\n",
    "logcon_0 = (np.linalg.slogdet(precision_0)[1] - (canonical_0.T @ np.linalg.inv(precision_0) @ canonical_0).item()) / 2\n",
    "states = {0: {\"can\": canonical_0, \"pre\": precision_0, \"log\": logcon_0, \"pit\": 0.0}}"
   ]
  },
  {
   "cell_type": "code",
   "execution_count": null,
   "id": "19c56593",
   "metadata": {},
   "outputs": [],
   "source": [
    "def objective_bcmix(trial):\n",
    "    a = trial.suggest_float('a', ACTION_RANGE_BCMIX[0], ACTION_RANGE_BCMIX[1])\n",
    "    q = q_myopic_with_change(states_i, a, P, xstar_bcmix)\n",
    "    return q\n",
    "\n",
    "def objective(trial):\n",
    "    a = trial.suggest_float('a', ACTION_RANGE[0], ACTION_RANGE[1])\n",
    "    q = q_myopic_without_change(canonical_i, precision_i, a, xstar)\n",
    "    return q"
   ]
  },
  {
   "cell_type": "code",
   "execution_count": null,
   "id": "2f07cee4",
   "metadata": {},
   "outputs": [],
   "source": [
    "for i in range(1):\n",
    "    # initialize\n",
    "    simresult_bcmix_i = np.full((DATA_LEN, 6 * (1 + M1 + M2) + 4), 0.0)\n",
    "    simresult_i = np.full((DATA_LEN, 9), np.nan)\n",
    "    canonical_i, precision_i, states_i = canonical_0, precision_0, copy.deepcopy(states)\n",
    "    xstar_bcmix = 0\n",
    "    xstar = 0\n",
    "    for j in range(DATA_LEN):\n",
    "        alpha_i = ALPHA[j]\n",
    "        beta_i = BETA\n",
    "        # current state\n",
    "        # bcmix model\n",
    "        simresult_bcmix_i[j, 0] = alpha_i\n",
    "        simresult_bcmix_i[j, 1] = beta_i\n",
    "        for m, s in states_i.items():\n",
    "            covm_bcmix_i = np.linalg.inv(s[\"pre\"])\n",
    "            mean_bcmix_i = covm_bcmix_i @ s[\"can\"]\n",
    "            simresult_bcmix_i[j, m * 6 + 2] = mean_bcmix_i[0][0]\n",
    "            simresult_bcmix_i[j, m * 6 + 3] = mean_bcmix_i[1][0]\n",
    "            simresult_bcmix_i[j, m * 6 + 4] = covm_bcmix_i[0][0]\n",
    "            simresult_bcmix_i[j, m * 6 + 5] = covm_bcmix_i[0][1]\n",
    "            simresult_bcmix_i[j, m * 6 + 6] = covm_bcmix_i[1][1]\n",
    "            simresult_bcmix_i[j, m * 6 + 7] = s[\"pit\"]\n",
    "        # old model\n",
    "        simresult_i[j, 0] = alpha_i\n",
    "        simresult_i[j, 1] = beta_i\n",
    "        covm_i = np.linalg.inv(precision_i)\n",
    "        mean_i = covm_i @ canonical_i\n",
    "        simresult_i[j, 2] = mean_i[0][0]\n",
    "        simresult_i[j, 3] = mean_i[1][0]\n",
    "        simresult_i[j, 4] = covm_i[0][0]\n",
    "        simresult_i[j, 5] = covm_i[0][1]\n",
    "        simresult_i[j, 6] = covm_i[1][1]\n",
    "        # select action\n",
    "        # bcmix model\n",
    "        x_m_bcmix = myopic_mix(states_i, P, xstar_bcmix)[0]\n",
    "        #ACTION_RANGE_BCMIX = (max(x_m_bcmix - 0.5, 0), max(x_m_bcmix + 0.5, 0.25))\n",
    "        #study_bcmix = optuna.create_study(direction=\"maximize\")\n",
    "        #study_bcmix.optimize(objective_bcmix, n_trials=N_TRIALS)\n",
    "        #a_bcmix = study_bcmix.best_trial.params['a']\n",
    "        a_bcmix = max(x_m_bcmix, 0)\n",
    "        simresult_bcmix_i[j, -2] = a_bcmix\n",
    "        xstar_bcmix = a_bcmix\n",
    "        # old model\n",
    "        x_m = myopic(canonical_i, precision_i, xstar)[0]\n",
    "        #ACTION_RANGE = (max(x_m - 0.5, 0), max(x_m + 0.5, 0.25))\n",
    "        #study = optuna.create_study(direction=\"maximize\")\n",
    "        #study.optimize(objective, n_trials=N_TRIALS)\n",
    "        #a = study.best_trial.params['a']\n",
    "        a = max(x_m, 0)\n",
    "        simresult_i[j, 7] = a\n",
    "        xstar = a\n",
    "        # update state\n",
    "        # bcmix model\n",
    "        y_bcmix = env_response(a_bcmix, alpha_i, beta_i, mean_true=None, covm_true=None, p=0, err=res[j])[0]\n",
    "        simresult_bcmix_i[j, -1] = y_bcmix * SIGMA\n",
    "        states_i = update_with_change(states_i, a_bcmix, y_bcmix, P)\n",
    "        # old model\n",
    "        y = env_response(a, alpha_i, beta_i, err=res[j])[0]\n",
    "        simresult_i[j, 8] = y * SIGMA\n",
    "        canonical_i, precision_i = update_without_change(canonical_i, precision_i, a, y)\n",
    "    np.save(\"realdata\\inf_cgbcmix_w01_\" + str(i) + \".npy\", simresult_bcmix_i)\n",
    "    np.save(\"realdata\\inf_cgold_w01_\" + str(i) + \".npy\", simresult_i)"
   ]
  },
  {
   "cell_type": "code",
   "execution_count": null,
   "id": "aae8c923",
   "metadata": {},
   "outputs": [],
   "source": [
    "simresult_w01 = np.zeros(DATA_LEN)\n",
    "simresult_w10 = np.zeros(DATA_LEN)\n",
    "\n",
    "for i in range(1):\n",
    "    simresult_w01 += np.load(\"realdata\\inf_cgbcmix_w01_\" + str(i) + \".npy\")[:, -2]\n",
    "    simresult_w10 += np.load(\"realdata\\inf_cgbcmix_w10_\" + str(i) + \".npy\")[:, -2]\n",
    "\n",
    "simresult_w01 /= 1\n",
    "simresult_w10 /= 1\n",
    "\n",
    "plt.figure(figsize=(7.2, 4.8))\n",
    "plt.plot(fed[\"observation_date\"], simresult_w01, \"-\", color=\"grey\", label=\"w=0.1\")\n",
    "plt.plot(fed[\"observation_date\"], simresult_w10, \"k-\", label=\"w=1\")\n",
    "plt.plot(fed[\"observation_date\"], fed[\"FEDFUNDS\"].values, \"k:\", label=\"true\")\n",
    "plt.xticks(fed[\"observation_date\"].iloc[[0, 12, 24, 36, 48, 60, 72, 84, 96, 108, 120]], rotation=45, fontsize=6)\n",
    "plt.legend(loc=\"upper left\")\n",
    "plt.title(\"federal funds effective rate\")\n",
    "plt.ylabel(\"interest rate\")\n",
    "#plt.savefig(\"fig3\", dpi=300)"
   ]
  },
  {
   "cell_type": "code",
   "execution_count": null,
   "id": "025a8482",
   "metadata": {},
   "outputs": [],
   "source": [
    "simresult_w01 = np.zeros(DATA_LEN)\n",
    "simresult_w10 = np.zeros(DATA_LEN)\n",
    "\n",
    "for i in range(1):\n",
    "    simresult_w01 += np.load(\"realdata\\inf_cgbcmix_w01_\" + str(i) + \".npy\")[:, -1]\n",
    "    simresult_w10 += np.load(\"realdata\\inf_cgbcmix_w10_\" + str(i) + \".npy\")[:, -1]\n",
    "\n",
    "simresult_w01 /= 1\n",
    "simresult_w10 /= 1\n",
    "\n",
    "plt.figure(figsize=(7.2, 4.8))\n",
    "plt.plot(pce[\"observation_date\"], simresult_w01, \"-\", color=\"grey\", label=\"w=0.1\")\n",
    "plt.plot(pce[\"observation_date\"], simresult_w10, \"k-\", label=\"w=1\")\n",
    "plt.plot(pce[\"observation_date\"], pce[\"EXPINF1YR\"].values, \"k:\", label=\"true\")\n",
    "plt.xticks(pce[\"observation_date\"].iloc[[0, 12, 24, 36, 48, 60, 72, 84, 96, 108, 120]], rotation=45, fontsize=6)\n",
    "plt.legend(loc=\"upper left\")\n",
    "plt.title(\"1-year expected inflation\")\n",
    "plt.ylabel(\"expected inflation\")\n",
    "#plt.savefig(\"fig4\", dpi=300)"
   ]
  },
  {
   "cell_type": "code",
   "execution_count": null,
   "id": "6fd0564a",
   "metadata": {},
   "outputs": [],
   "source": []
  }
 ],
 "metadata": {
  "kernelspec": {
   "display_name": "Python 3",
   "language": "python",
   "name": "python3"
  },
  "language_info": {
   "codemirror_mode": {
    "name": "ipython",
    "version": 3
   },
   "file_extension": ".py",
   "mimetype": "text/x-python",
   "name": "python",
   "nbconvert_exporter": "python",
   "pygments_lexer": "ipython3",
   "version": "3.11.4"
  }
 },
 "nbformat": 4,
 "nbformat_minor": 5
}
