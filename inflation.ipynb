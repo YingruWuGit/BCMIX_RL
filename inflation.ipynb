{
 "cells": [
  {
   "cell_type": "code",
   "execution_count": null,
   "id": "46ca47cc",
   "metadata": {},
   "outputs": [],
   "source": [
    "import copy\n",
    "import optuna\n",
    "import numpy as np\n",
    "import pandas as pd\n",
    "import matplotlib.pyplot as plt\n",
    "from bcmix import *"
   ]
  },
  {
   "cell_type": "code",
   "execution_count": null,
   "id": "733b42df",
   "metadata": {},
   "outputs": [],
   "source": [
    "fed = pd.read_csv(\"realdata/FEDFUNDS.csv\")\n",
    "pce = pd.read_csv(\"realdata/EXPINF1YR.csv\")"
   ]
  },
  {
   "cell_type": "code",
   "execution_count": null,
   "id": "3953668d",
   "metadata": {},
   "outputs": [],
   "source": [
    "x = fed[\"FEDFUNDS\"].values\n",
    "y = pce[\"EXPINF1YR\"].values"
   ]
  },
  {
   "cell_type": "code",
   "execution_count": null,
   "id": "f119ce8c",
   "metadata": {},
   "outputs": [],
   "source": [
    "BETA = -0.68\n",
    "N_TRIALS = 10\n",
    "DATA_LEN = len(y)\n",
    "P = 0.025"
   ]
  },
  {
   "cell_type": "code",
   "execution_count": null,
   "id": "d668b00d",
   "metadata": {},
   "outputs": [],
   "source": [
    "# prior\n",
    "canonical_0 = np.array([[3.33 / SIGMA], [-0.68 / SIGMA]])\n",
    "precision_0 = np.array([[1.0, 0.0], [0.0, 1.0]])\n",
    "logcon_0 = (np.linalg.slogdet(precision_0)[1] - (canonical_0.T @ np.linalg.inv(precision_0) @ canonical_0).item()) / 2\n",
    "states = {0: {\"can\": canonical_0, \"pre\": precision_0, \"log\": logcon_0, \"pit\": 0.0}}"
   ]
  },
  {
   "cell_type": "code",
   "execution_count": null,
   "id": "19c56593",
   "metadata": {},
   "outputs": [],
   "source": [
    "def objective_bcmix(trial):\n",
    "    a = trial.suggest_float('a', ACTION_RANGE_BCMIX[0], ACTION_RANGE_BCMIX[1])\n",
    "    q = q_myopic_with_change(states_i, a, P, xstar_bcmix)\n",
    "    return q\n",
    "\n",
    "def objective(trial):\n",
    "    a = trial.suggest_float('a', ACTION_RANGE[0], ACTION_RANGE[1])\n",
    "    q = q_myopic_without_change(canonical_i, precision_i, a, xstar)\n",
    "    return q"
   ]
  },
  {
   "cell_type": "code",
   "execution_count": null,
   "id": "2f07cee4",
   "metadata": {},
   "outputs": [],
   "source": [
    "for i in range(1):\n",
    "    # initialize\n",
    "    simresult_bcmix_i = np.full((DATA_LEN, 6 * (1 + M1 + M2) + 4), 0.0)\n",
    "    states_i = copy.deepcopy(states)\n",
    "    xstar_bcmix = 0\n",
    "    for j in range(DATA_LEN):\n",
    "        alpha_i = np.nan\n",
    "        beta_i = BETA\n",
    "        # current state\n",
    "        simresult_bcmix_i[j, 0] = alpha_i\n",
    "        simresult_bcmix_i[j, 1] = beta_i\n",
    "        for m, s in states_i.items():\n",
    "            covm_bcmix_i = np.linalg.inv(s[\"pre\"])\n",
    "            mean_bcmix_i = covm_bcmix_i @ s[\"can\"]\n",
    "            simresult_bcmix_i[j, m * 6 + 2] = mean_bcmix_i[0][0]\n",
    "            simresult_bcmix_i[j, m * 6 + 3] = mean_bcmix_i[1][0]\n",
    "            simresult_bcmix_i[j, m * 6 + 4] = covm_bcmix_i[0][0]\n",
    "            simresult_bcmix_i[j, m * 6 + 5] = covm_bcmix_i[0][1]\n",
    "            simresult_bcmix_i[j, m * 6 + 6] = covm_bcmix_i[1][1]\n",
    "            simresult_bcmix_i[j, m * 6 + 7] = s[\"pit\"]\n",
    "        # select action\n",
    "        x_m_bcmix = myopic_mix(states_i, P, xstar_bcmix)[0]\n",
    "        ACTION_RANGE_BCMIX = (max(x_m_bcmix - 0.5, 0), max(x_m_bcmix + 0.5, 0.25)) if j > 1 else (0, 0.25)\n",
    "        study_bcmix = optuna.create_study(direction=\"maximize\")\n",
    "        study_bcmix.optimize(objective_bcmix, n_trials=N_TRIALS)\n",
    "        a_bcmix = study_bcmix.best_trial.params['a']\n",
    "        simresult_bcmix_i[j, -2] = a_bcmix\n",
    "        xstar_bcmix = a_bcmix\n",
    "        # update state\n",
    "        y_bcmix = y[j] + BETA * (a_bcmix - x[j])\n",
    "        simresult_bcmix_i[j, -1] = y_bcmix\n",
    "        states_i = update_with_change(states_i, a_bcmix, y_bcmix, P)\n",
    "    np.save(\"realdata\\inf_cgbcmix_w10_\" + str(i) + \".npy\", simresult_bcmix_i)"
   ]
  },
  {
   "cell_type": "code",
   "execution_count": null,
   "id": "aae8c923",
   "metadata": {},
   "outputs": [],
   "source": [
    "simresult_w01 = np.zeros(DATA_LEN)\n",
    "simresult_w10 = np.zeros(DATA_LEN)\n",
    "\n",
    "for i in range(1):\n",
    "    simresult_w01 += np.load(\"realdata\\inf_cgbcmix_w01_\" + str(i) + \".npy\")[:, -2]\n",
    "    simresult_w10 += np.load(\"realdata\\inf_cgbcmix_w10_\" + str(i) + \".npy\")[:, -2]\n",
    "\n",
    "simresult_w01 /= 1\n",
    "simresult_w10 /= 1\n",
    "\n",
    "plt.figure(figsize=(7.2, 4.8))\n",
    "plt.plot(fed[\"observation_date\"], simresult_w01, \"r-\", label=\"BCMIX rollout w=0.1\")\n",
    "plt.plot(fed[\"observation_date\"], simresult_w10, \"b-\", label=\"BCMIX rollout w=1\")\n",
    "plt.plot(fed[\"observation_date\"], fed[\"FEDFUNDS\"].values, \"k-\", label=\"real\")\n",
    "plt.xticks(fed[\"observation_date\"].iloc[[0, 12, 24, 36, 48, 60, 72, 84, 96, 108, 120]], rotation=45, fontsize=6)\n",
    "plt.legend(loc=\"upper left\")\n",
    "plt.title(\"federal funds effective rate\")\n",
    "plt.ylabel(\"interest rate %\")\n",
    "plt.savefig(\"fig3\", dpi=300)"
   ]
  },
  {
   "cell_type": "code",
   "execution_count": null,
   "id": "025a8482",
   "metadata": {},
   "outputs": [],
   "source": [
    "simresult_w01 = np.zeros(DATA_LEN)\n",
    "simresult_w10 = np.zeros(DATA_LEN)\n",
    "\n",
    "for i in range(1):\n",
    "    simresult_w01 += np.load(\"realdata\\inf_cgbcmix_w01_\" + str(i) + \".npy\")[:, -1]\n",
    "    simresult_w10 += np.load(\"realdata\\inf_cgbcmix_w10_\" + str(i) + \".npy\")[:, -1]\n",
    "\n",
    "simresult_w01 /= 1\n",
    "simresult_w10 /= 1\n",
    "\n",
    "plt.figure(figsize=(7.2, 4.8))\n",
    "plt.plot(pce[\"observation_date\"], simresult_w01, \"r-\", label=\"BCMIX rollout w=0.1\")\n",
    "plt.plot(pce[\"observation_date\"], simresult_w10, \"b-\", label=\"BCMIX rollout w=1\")\n",
    "plt.plot(pce[\"observation_date\"], pce[\"EXPINF1YR\"].values, \"k-\", label=\"real\")\n",
    "plt.xticks(pce[\"observation_date\"].iloc[[0, 12, 24, 36, 48, 60, 72, 84, 96, 108, 120]], rotation=45, fontsize=6)\n",
    "plt.legend(loc=\"upper left\")\n",
    "plt.title(\"1-year expected inflation\")\n",
    "plt.ylabel(\"expected inflation %\")\n",
    "plt.savefig(\"fig4\", dpi=300)"
   ]
  },
  {
   "cell_type": "code",
   "execution_count": null,
   "id": "54f8c2ac",
   "metadata": {},
   "outputs": [],
   "source": []
  }
 ],
 "metadata": {
  "kernelspec": {
   "display_name": "Python 3",
   "language": "python",
   "name": "python3"
  },
  "language_info": {
   "codemirror_mode": {
    "name": "ipython",
    "version": 3
   },
   "file_extension": ".py",
   "mimetype": "text/x-python",
   "name": "python",
   "nbconvert_exporter": "python",
   "pygments_lexer": "ipython3",
   "version": "3.11.4"
  }
 },
 "nbformat": 4,
 "nbformat_minor": 5
}
