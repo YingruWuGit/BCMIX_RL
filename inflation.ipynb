{
 "cells": [
  {
   "cell_type": "code",
   "execution_count": 1,
   "id": "46ca47cc",
   "metadata": {},
   "outputs": [
    {
     "name": "stderr",
     "output_type": "stream",
     "text": [
      "c:\\Users\\Andrew\\AppData\\Local\\Programs\\Python\\Python311\\Lib\\site-packages\\tqdm\\auto.py:21: TqdmWarning: IProgress not found. Please update jupyter and ipywidgets. See https://ipywidgets.readthedocs.io/en/stable/user_install.html\n",
      "  from .autonotebook import tqdm as notebook_tqdm\n"
     ]
    }
   ],
   "source": [
    "import copy\n",
    "import optuna\n",
    "import numpy as np\n",
    "import pandas as pd\n",
    "import matplotlib.pyplot as plt\n",
    "from sklearn.linear_model import LinearRegression\n",
    "from bcmix import *"
   ]
  },
  {
   "cell_type": "code",
   "execution_count": 2,
   "id": "733b42df",
   "metadata": {},
   "outputs": [],
   "source": [
    "fed = pd.read_csv(\"realdata/FEDFUNDS.csv\")\n",
    "pce = pd.read_csv(\"realdata/EXPINF1YR.csv\")"
   ]
  },
  {
   "cell_type": "code",
   "execution_count": 3,
   "id": "3953668d",
   "metadata": {},
   "outputs": [],
   "source": [
    "X = fed[\"FEDFUNDS\"].values[48:]\n",
    "y = pce[\"EXPINF1YR\"].values[48:]"
   ]
  },
  {
   "cell_type": "code",
   "execution_count": 4,
   "id": "68d1d40f",
   "metadata": {},
   "outputs": [],
   "source": [
    "CP = 91\n",
    "\n",
    "XX = X[:CP].reshape((-1, 1))\n",
    "yy = y[:CP]\n",
    "model0 = LinearRegression().fit(XX, yy)\n",
    "yy_hat = model0.predict(XX)\n",
    "res0 = (yy - yy_hat).reshape((-1, 1))\n",
    "\n",
    "XX = X[CP : len(X)].reshape((-1, 1))\n",
    "yy = y[CP : len(X)]\n",
    "model1 = LinearRegression().fit(XX, yy)\n",
    "yy_hat = model1.predict(XX)\n",
    "res1 = (yy - yy_hat).reshape((-1, 1))"
   ]
  },
  {
   "cell_type": "code",
   "execution_count": 5,
   "id": "c674b80a",
   "metadata": {},
   "outputs": [
    {
     "data": {
      "text/plain": [
       "observation_date    2021-08-01\n",
       "FEDFUNDS                  0.09\n",
       "Name: 139, dtype: object"
      ]
     },
     "execution_count": 5,
     "metadata": {},
     "output_type": "execute_result"
    }
   ],
   "source": [
    "fed.iloc[CP + 48]"
   ]
  },
  {
   "cell_type": "code",
   "execution_count": 6,
   "id": "a670b9b3",
   "metadata": {},
   "outputs": [],
   "source": [
    "SIGMA = ((res0.T @ res0 + res1.T @ res1) / len(y)).item() ** 0.5\n",
    "ALPHA0 = 1.5# / SIGMA\n",
    "ALPHA1 = 3.0# / SIGMA\n",
    "BETA0 = 0.2# / SIGMA\n",
    "BETA1 = -0.1# / SIGMA"
   ]
  },
  {
   "cell_type": "code",
   "execution_count": 7,
   "id": "354e2150",
   "metadata": {},
   "outputs": [],
   "source": [
    "err = np.concatenate([res0.flatten(), res1.flatten()])# / SIGMA"
   ]
  },
  {
   "cell_type": "code",
   "execution_count": 8,
   "id": "f119ce8c",
   "metadata": {},
   "outputs": [],
   "source": [
    "ACTION_RANGE = (0.0, 10.0)\n",
    "N_TRIALS = 25\n",
    "DATA_LEN = len(y)\n",
    "P = 0.025"
   ]
  },
  {
   "cell_type": "code",
   "execution_count": 9,
   "id": "d668b00d",
   "metadata": {},
   "outputs": [],
   "source": [
    "mean_true = np.array([[2.0], [0.0]])\n",
    "covm_true = np.array([[1.0, 0.0], [0.0, 1.0]])\n",
    "# prior\n",
    "canonical_0 = np.array([[2.0], [0.0]])\n",
    "precision_0 = np.array([[1.0, 0.0], [0.0, 1.0]])\n",
    "\"\"\"\n",
    "for i in range(48):\n",
    "    x = fed[\"FEDFUNDS\"].iloc[i]\n",
    "    X = np.array([[1, x]])\n",
    "    y = pce[\"EXPINF1YR\"].iloc[i]# / SIGMA\n",
    "    canonical_0 = canonical_0 + X.T * y\n",
    "    precision_0 = precision_0 + X.T @ X\n",
    "\"\"\"\n",
    "logcon_0 = (np.linalg.slogdet(precision_0)[1] - (canonical_0.T @ np.linalg.inv(precision_0) @ canonical_0).item()) / 2\n",
    "states = {0: {\"can\": canonical_0, \"pre\": precision_0, \"log\": logcon_0, \"pit\": 0.0}}"
   ]
  },
  {
   "cell_type": "code",
   "execution_count": 10,
   "id": "19c56593",
   "metadata": {},
   "outputs": [],
   "source": [
    "def objective_bcmix(trial):\n",
    "    a = trial.suggest_float('a', ACTION_RANGE[0], ACTION_RANGE[1])\n",
    "    q = q_myopic_with_change(states_i, a, alpha_i, beta_i, mean_true, covm_true, p=P)\n",
    "    return q"
   ]
  },
  {
   "cell_type": "code",
   "execution_count": null,
   "id": "a1d56aa4",
   "metadata": {},
   "outputs": [
    {
     "name": "stderr",
     "output_type": "stream",
     "text": [
      "[I 2025-08-22 09:22:59,908] A new study created in memory with name: no-name-4ee14139-07e3-470f-ae24-d5e54626e766\n",
      "[I 2025-08-22 09:23:02,171] Trial 0 finished with value: -21.195124245818693 and parameters: {'a': 9.31961825208698}. Best is trial 0 with value: -21.195124245818693.\n",
      "[I 2025-08-22 09:23:04,429] Trial 1 finished with value: -13.260477626799819 and parameters: {'a': 4.2309213856928825}. Best is trial 1 with value: -13.260477626799819.\n",
      "[I 2025-08-22 09:23:06,672] Trial 2 finished with value: -16.094962351102193 and parameters: {'a': 6.937384607388496}. Best is trial 1 with value: -13.260477626799819.\n",
      "[I 2025-08-22 09:23:08,930] Trial 3 finished with value: -16.47577836388346 and parameters: {'a': 5.380383217406327}. Best is trial 1 with value: -13.260477626799819.\n",
      "[I 2025-08-22 09:23:11,176] Trial 4 finished with value: -14.042887868716027 and parameters: {'a': 1.130106893970243}. Best is trial 1 with value: -13.260477626799819.\n",
      "[I 2025-08-22 09:23:13,427] Trial 5 finished with value: -16.263048267426864 and parameters: {'a': 6.931880223430195}. Best is trial 1 with value: -13.260477626799819.\n",
      "[I 2025-08-22 09:23:15,680] Trial 6 finished with value: -13.168144478342471 and parameters: {'a': 2.558675001262328}. Best is trial 6 with value: -13.168144478342471.\n",
      "[I 2025-08-22 09:23:17,928] Trial 7 finished with value: -13.88826478154082 and parameters: {'a': 2.629480018296012}. Best is trial 6 with value: -13.168144478342471.\n",
      "[I 2025-08-22 09:23:20,175] Trial 8 finished with value: -23.917681568885005 and parameters: {'a': 9.966868419669346}. Best is trial 6 with value: -13.168144478342471.\n",
      "[I 2025-08-22 09:23:22,419] Trial 9 finished with value: -14.639825475424129 and parameters: {'a': 0.7176385490777304}. Best is trial 6 with value: -13.168144478342471.\n",
      "[I 2025-08-22 09:23:24,665] Trial 10 finished with value: -13.26877505418591 and parameters: {'a': 3.0124734024390207}. Best is trial 6 with value: -13.168144478342471.\n",
      "[I 2025-08-22 09:23:26,911] Trial 11 finished with value: -13.20515778405958 and parameters: {'a': 3.8765071868343846}. Best is trial 6 with value: -13.168144478342471.\n",
      "[I 2025-08-22 09:23:29,156] Trial 12 finished with value: -13.555559527055873 and parameters: {'a': 2.601437148717153}. Best is trial 6 with value: -13.168144478342471.\n",
      "[I 2025-08-22 09:23:31,406] Trial 13 finished with value: -16.361196939434265 and parameters: {'a': 4.574942813914728}. Best is trial 6 with value: -13.168144478342471.\n",
      "[I 2025-08-22 09:23:33,650] Trial 14 finished with value: -15.867249748628627 and parameters: {'a': 0.12077790877636563}. Best is trial 6 with value: -13.168144478342471.\n",
      "[I 2025-08-22 09:23:35,898] Trial 15 finished with value: -15.662349229482148 and parameters: {'a': 6.174007720360695}. Best is trial 6 with value: -13.168144478342471.\n",
      "[I 2025-08-22 09:23:38,154] Trial 16 finished with value: -12.276461157421206 and parameters: {'a': 3.5871532227669642}. Best is trial 16 with value: -12.276461157421206.\n",
      "[I 2025-08-22 09:23:40,400] Trial 17 finished with value: -13.361925111698586 and parameters: {'a': 1.831756017743266}. Best is trial 16 with value: -12.276461157421206.\n",
      "[I 2025-08-22 09:23:42,656] Trial 18 finished with value: -12.44024644228232 and parameters: {'a': 3.28918351845847}. Best is trial 16 with value: -12.276461157421206.\n",
      "[I 2025-08-22 09:23:44,915] Trial 19 finished with value: -19.863183130000653 and parameters: {'a': 8.411156297021705}. Best is trial 16 with value: -12.276461157421206.\n",
      "[I 2025-08-22 09:23:47,170] Trial 20 finished with value: -15.996319341398848 and parameters: {'a': 5.512581008470769}. Best is trial 16 with value: -12.276461157421206.\n",
      "[I 2025-08-22 09:23:49,421] Trial 21 finished with value: -13.297718774197467 and parameters: {'a': 3.2488648087899072}. Best is trial 16 with value: -12.276461157421206.\n",
      "[I 2025-08-22 09:23:51,670] Trial 22 finished with value: -13.239363968715434 and parameters: {'a': 1.8229816663158545}. Best is trial 16 with value: -12.276461157421206.\n",
      "[I 2025-08-22 09:23:53,922] Trial 23 finished with value: -11.901683322644978 and parameters: {'a': 3.624584321823764}. Best is trial 23 with value: -11.901683322644978.\n",
      "[I 2025-08-22 09:23:56,171] Trial 24 finished with value: -13.009788894844489 and parameters: {'a': 3.661854180804781}. Best is trial 23 with value: -11.901683322644978.\n",
      "[I 2025-08-22 09:23:56,172] A new study created in memory with name: no-name-531df362-3f57-4321-b34b-f62b7d9ef6df\n",
      "[I 2025-08-22 09:23:58,522] Trial 0 finished with value: -12.737158929641089 and parameters: {'a': 0.13267526199220336}. Best is trial 0 with value: -12.737158929641089.\n",
      "[I 2025-08-22 09:24:00,867] Trial 1 finished with value: -19.79543752096405 and parameters: {'a': 8.444229363405961}. Best is trial 0 with value: -12.737158929641089.\n",
      "[I 2025-08-22 09:24:03,208] Trial 2 finished with value: -14.627472032995959 and parameters: {'a': 1.5387855607368117}. Best is trial 0 with value: -12.737158929641089.\n",
      "[I 2025-08-22 09:24:05,547] Trial 3 finished with value: -20.971006894841242 and parameters: {'a': 9.381824850235738}. Best is trial 0 with value: -12.737158929641089.\n",
      "[I 2025-08-22 09:24:07,892] Trial 4 finished with value: -17.165462142428815 and parameters: {'a': 6.682100440360699}. Best is trial 0 with value: -12.737158929641089.\n",
      "[I 2025-08-22 09:24:10,249] Trial 5 finished with value: -13.11252670710531 and parameters: {'a': 0.061376149221550325}. Best is trial 0 with value: -12.737158929641089.\n",
      "[I 2025-08-22 09:24:12,591] Trial 6 finished with value: -12.238467505499175 and parameters: {'a': 1.5968139953599203}. Best is trial 6 with value: -12.238467505499175.\n",
      "[I 2025-08-22 09:24:14,930] Trial 7 finished with value: -17.632256752682757 and parameters: {'a': 6.475360774752621}. Best is trial 6 with value: -12.238467505499175.\n",
      "[I 2025-08-22 09:24:17,273] Trial 8 finished with value: -18.678986817971417 and parameters: {'a': 6.807853924030958}. Best is trial 6 with value: -12.238467505499175.\n",
      "[I 2025-08-22 09:24:19,614] Trial 9 finished with value: -13.729282574661454 and parameters: {'a': 4.248149631495101}. Best is trial 6 with value: -12.238467505499175.\n",
      "[I 2025-08-22 09:24:21,958] Trial 10 finished with value: -13.644017521638105 and parameters: {'a': 3.5372582672063366}. Best is trial 6 with value: -12.238467505499175.\n",
      "[I 2025-08-22 09:24:24,301] Trial 11 finished with value: -12.954377202209214 and parameters: {'a': 2.1319229183656185}. Best is trial 6 with value: -12.238467505499175.\n",
      "[I 2025-08-22 09:24:26,642] Trial 12 finished with value: -12.10953778631809 and parameters: {'a': 0.3577297237814827}. Best is trial 12 with value: -12.10953778631809.\n",
      "[I 2025-08-22 09:24:28,980] Trial 13 finished with value: -12.376435932071383 and parameters: {'a': 2.269898126426708}. Best is trial 12 with value: -12.10953778631809.\n",
      "[I 2025-08-22 09:24:31,326] Trial 14 finished with value: -13.626320997701264 and parameters: {'a': 1.5187881995512145}. Best is trial 12 with value: -12.10953778631809.\n",
      "[I 2025-08-22 09:24:33,674] Trial 15 finished with value: -14.252420663036574 and parameters: {'a': 3.2261400058852487}. Best is trial 12 with value: -12.10953778631809.\n",
      "[I 2025-08-22 09:24:36,020] Trial 16 finished with value: -13.554906031102488 and parameters: {'a': 0.9581168852389752}. Best is trial 12 with value: -12.10953778631809.\n",
      "[I 2025-08-22 09:24:38,365] Trial 17 finished with value: -14.926809102062737 and parameters: {'a': 5.562262687126024}. Best is trial 12 with value: -12.10953778631809.\n",
      "[I 2025-08-22 09:24:40,707] Trial 18 finished with value: -11.822434954731591 and parameters: {'a': 2.763932431499696}. Best is trial 18 with value: -11.822434954731591.\n",
      "[I 2025-08-22 09:24:43,050] Trial 19 finished with value: -13.866771441340395 and parameters: {'a': 3.019102434192065}. Best is trial 18 with value: -11.822434954731591.\n",
      "[I 2025-08-22 09:24:45,390] Trial 20 finished with value: -13.68566432805184 and parameters: {'a': 4.819655794206147}. Best is trial 18 with value: -11.822434954731591.\n",
      "[I 2025-08-22 09:24:47,732] Trial 21 finished with value: -13.497434141864685 and parameters: {'a': 0.692377917741614}. Best is trial 18 with value: -11.822434954731591.\n",
      "[I 2025-08-22 09:24:50,069] Trial 22 finished with value: -13.04446195148944 and parameters: {'a': 2.375681080942983}. Best is trial 18 with value: -11.822434954731591.\n",
      "[I 2025-08-22 09:24:52,416] Trial 23 finished with value: -13.001927071592133 and parameters: {'a': 1.2732397955548354}. Best is trial 18 with value: -11.822434954731591.\n",
      "[I 2025-08-22 09:24:54,754] Trial 24 finished with value: -12.855418931111238 and parameters: {'a': 3.892031396591325}. Best is trial 18 with value: -11.822434954731591.\n",
      "[I 2025-08-22 09:24:54,755] A new study created in memory with name: no-name-8efd1046-aa48-4aad-98c4-966231e95c02\n",
      "[I 2025-08-22 09:24:57,183] Trial 0 finished with value: -20.562709221412923 and parameters: {'a': 8.833924269805488}. Best is trial 0 with value: -20.562709221412923.\n",
      "[I 2025-08-22 09:24:59,607] Trial 1 finished with value: -12.661875051149856 and parameters: {'a': 2.131245114345701}. Best is trial 1 with value: -12.661875051149856.\n",
      "[I 2025-08-22 09:25:02,034] Trial 2 finished with value: -15.998657698191602 and parameters: {'a': 6.253630419595412}. Best is trial 1 with value: -12.661875051149856.\n",
      "[I 2025-08-22 09:25:04,452] Trial 3 finished with value: -18.894729540804448 and parameters: {'a': 8.217188876126112}. Best is trial 1 with value: -12.661875051149856.\n",
      "[I 2025-08-22 09:25:06,873] Trial 4 finished with value: -19.75781186578385 and parameters: {'a': 8.986922529585486}. Best is trial 1 with value: -12.661875051149856.\n",
      "[I 2025-08-22 09:25:09,299] Trial 5 finished with value: -12.624859876844894 and parameters: {'a': 1.2359914671445105}. Best is trial 5 with value: -12.624859876844894.\n",
      "[I 2025-08-22 09:25:11,713] Trial 6 finished with value: -12.158395620396073 and parameters: {'a': 1.6901072828224417}. Best is trial 6 with value: -12.158395620396073.\n",
      "[I 2025-08-22 09:25:14,132] Trial 7 finished with value: -12.795308484591363 and parameters: {'a': 2.1670426783443197}. Best is trial 6 with value: -12.158395620396073.\n",
      "[I 2025-08-22 09:25:16,552] Trial 8 finished with value: -19.39778144847617 and parameters: {'a': 8.004613181260346}. Best is trial 6 with value: -12.158395620396073.\n",
      "[I 2025-08-22 09:25:18,977] Trial 9 finished with value: -12.701845050042413 and parameters: {'a': 1.7211025876838049}. Best is trial 6 with value: -12.158395620396073.\n",
      "[I 2025-08-22 09:25:21,398] Trial 10 finished with value: -13.115262743479883 and parameters: {'a': 4.076756837009878}. Best is trial 6 with value: -12.158395620396073.\n",
      "[I 2025-08-22 09:25:23,811] Trial 11 finished with value: -12.86159283063177 and parameters: {'a': 0.05708573617076729}. Best is trial 6 with value: -12.158395620396073.\n",
      "[I 2025-08-22 09:25:26,223] Trial 12 finished with value: -12.520413980253261 and parameters: {'a': 0.07997153565342963}. Best is trial 6 with value: -12.158395620396073.\n",
      "[I 2025-08-22 09:25:28,638] Trial 13 finished with value: -14.18671838042783 and parameters: {'a': 4.095280246183426}. Best is trial 6 with value: -12.158395620396073.\n",
      "[I 2025-08-22 09:25:31,053] Trial 14 finished with value: -14.26752892848383 and parameters: {'a': 0.01828018592511005}. Best is trial 6 with value: -12.158395620396073.\n",
      "[I 2025-08-22 09:25:33,473] Trial 15 finished with value: -13.459947628757718 and parameters: {'a': 3.2467979201492665}. Best is trial 6 with value: -12.158395620396073.\n",
      "[I 2025-08-22 09:25:35,896] Trial 16 finished with value: -17.71387300562694 and parameters: {'a': 6.044046968084476}. Best is trial 6 with value: -12.158395620396073.\n",
      "[I 2025-08-22 09:25:38,317] Trial 17 finished with value: -13.379815448165196 and parameters: {'a': 1.1906952922725922}. Best is trial 6 with value: -12.158395620396073.\n",
      "[I 2025-08-22 09:25:40,737] Trial 18 finished with value: -13.276415344329825 and parameters: {'a': 3.098562517335362}. Best is trial 6 with value: -12.158395620396073.\n",
      "[I 2025-08-22 09:25:43,158] Trial 19 finished with value: -12.500010679782553 and parameters: {'a': 0.7663248400070062}. Best is trial 6 with value: -12.158395620396073.\n",
      "[I 2025-08-22 09:25:45,578] Trial 20 finished with value: -13.463371946223896 and parameters: {'a': 5.349380170986772}. Best is trial 6 with value: -12.158395620396073.\n",
      "[I 2025-08-22 09:25:47,992] Trial 21 finished with value: -13.542555948438162 and parameters: {'a': 0.5902869776757785}. Best is trial 6 with value: -12.158395620396073.\n",
      "[I 2025-08-22 09:25:50,406] Trial 22 finished with value: -11.916798326325312 and parameters: {'a': 2.678375981141377}. Best is trial 22 with value: -11.916798326325312.\n",
      "[I 2025-08-22 09:25:52,826] Trial 23 finished with value: -12.495308299662337 and parameters: {'a': 2.999221563473149}. Best is trial 22 with value: -11.916798326325312.\n",
      "[I 2025-08-22 09:25:55,248] Trial 24 finished with value: -13.166780473598159 and parameters: {'a': 3.179904502095878}. Best is trial 22 with value: -11.916798326325312.\n",
      "[I 2025-08-22 09:25:55,249] A new study created in memory with name: no-name-93ade088-d38d-4907-a5f6-160ed7b4dbd5\n",
      "[I 2025-08-22 09:25:57,739] Trial 0 finished with value: -18.824696943934217 and parameters: {'a': 8.359396690174526}. Best is trial 0 with value: -18.824696943934217.\n",
      "[I 2025-08-22 09:26:00,233] Trial 1 finished with value: -12.701843555181986 and parameters: {'a': 0.22450526281520333}. Best is trial 1 with value: -12.701843555181986.\n",
      "[I 2025-08-22 09:26:02,723] Trial 2 finished with value: -21.289758128538647 and parameters: {'a': 8.917995789564987}. Best is trial 1 with value: -12.701843555181986.\n",
      "[I 2025-08-22 09:26:05,210] Trial 3 finished with value: -13.780028474559085 and parameters: {'a': 5.14320528141795}. Best is trial 1 with value: -12.701843555181986.\n",
      "[I 2025-08-22 09:26:07,711] Trial 4 finished with value: -15.779059266337427 and parameters: {'a': 5.451336642887355}. Best is trial 1 with value: -12.701843555181986.\n",
      "[I 2025-08-22 09:26:10,200] Trial 5 finished with value: -14.749197782644098 and parameters: {'a': 5.319442906519539}. Best is trial 1 with value: -12.701843555181986.\n",
      "[I 2025-08-22 09:26:12,696] Trial 6 finished with value: -20.101878913487454 and parameters: {'a': 8.939572541032776}. Best is trial 1 with value: -12.701843555181986.\n",
      "[I 2025-08-22 09:26:15,183] Trial 7 finished with value: -13.737876298438232 and parameters: {'a': 3.6630125601475627}. Best is trial 1 with value: -12.701843555181986.\n",
      "[I 2025-08-22 09:26:17,668] Trial 8 finished with value: -13.259052185520291 and parameters: {'a': 1.2686075368773153}. Best is trial 1 with value: -12.701843555181986.\n",
      "[I 2025-08-22 09:26:20,153] Trial 9 finished with value: -18.578047951725097 and parameters: {'a': 9.11438283481495}. Best is trial 1 with value: -12.701843555181986.\n",
      "[I 2025-08-22 09:26:22,639] Trial 10 finished with value: -13.0797878468149 and parameters: {'a': 0.2599942708274874}. Best is trial 1 with value: -12.701843555181986.\n",
      "[I 2025-08-22 09:26:25,128] Trial 11 finished with value: -13.854837903538877 and parameters: {'a': 0.029275461842572514}. Best is trial 1 with value: -12.701843555181986.\n",
      "[I 2025-08-22 09:26:27,624] Trial 12 finished with value: -12.322648155757593 and parameters: {'a': 2.316480790538984}. Best is trial 12 with value: -12.322648155757593.\n",
      "[I 2025-08-22 09:26:30,117] Trial 13 finished with value: -14.466328600233485 and parameters: {'a': 2.799090481437771}. Best is trial 12 with value: -12.322648155757593.\n",
      "[I 2025-08-22 09:26:32,621] Trial 14 finished with value: -11.492956778252832 and parameters: {'a': 1.7261250253317189}. Best is trial 14 with value: -11.492956778252832.\n",
      "[I 2025-08-22 09:26:35,120] Trial 15 finished with value: -12.92087328834169 and parameters: {'a': 2.282050345646919}. Best is trial 14 with value: -11.492956778252832.\n",
      "[I 2025-08-22 09:26:37,615] Trial 16 finished with value: -14.415202567064505 and parameters: {'a': 3.884500236439136}. Best is trial 14 with value: -11.492956778252832.\n",
      "[I 2025-08-22 09:26:40,109] Trial 17 finished with value: -16.452133957167124 and parameters: {'a': 6.858331330712225}. Best is trial 14 with value: -11.492956778252832.\n",
      "[I 2025-08-22 09:26:42,599] Trial 18 finished with value: -12.77402607402358 and parameters: {'a': 1.8656255733760103}. Best is trial 14 with value: -11.492956778252832.\n",
      "[I 2025-08-22 09:26:45,089] Trial 19 finished with value: -14.193619127518854 and parameters: {'a': 3.5126350759950844}. Best is trial 14 with value: -11.492956778252832.\n",
      "[I 2025-08-22 09:26:47,576] Trial 20 finished with value: -13.430780153587616 and parameters: {'a': 1.3842576058944025}. Best is trial 14 with value: -11.492956778252832.\n",
      "[I 2025-08-22 09:26:50,066] Trial 21 finished with value: -12.970093370363657 and parameters: {'a': 0.8338362110832684}. Best is trial 14 with value: -11.492956778252832.\n",
      "[I 2025-08-22 09:26:52,560] Trial 22 finished with value: -13.173419690872807 and parameters: {'a': 2.7972913299649917}. Best is trial 14 with value: -11.492956778252832.\n",
      "[I 2025-08-22 09:26:55,051] Trial 23 finished with value: -12.683407312216849 and parameters: {'a': 0.9611766518849052}. Best is trial 14 with value: -11.492956778252832.\n",
      "[I 2025-08-22 09:26:57,541] Trial 24 finished with value: -12.506591484063513 and parameters: {'a': 2.003545681800234}. Best is trial 14 with value: -11.492956778252832.\n",
      "[I 2025-08-22 09:26:57,542] A new study created in memory with name: no-name-11983e66-2313-4f3f-85cc-672ba41370f3\n",
      "[I 2025-08-22 09:27:00,112] Trial 0 finished with value: -12.222308751760165 and parameters: {'a': 1.368294815417599}. Best is trial 0 with value: -12.222308751760165.\n",
      "[I 2025-08-22 09:27:02,745] Trial 1 finished with value: -13.391844412103506 and parameters: {'a': 0.3949269247154974}. Best is trial 0 with value: -12.222308751760165.\n",
      "[I 2025-08-22 09:27:05,326] Trial 2 finished with value: -17.36299324434331 and parameters: {'a': 7.862547590439094}. Best is trial 0 with value: -12.222308751760165.\n",
      "[I 2025-08-22 09:27:07,897] Trial 3 finished with value: -17.227260611564407 and parameters: {'a': 7.799757964379994}. Best is trial 0 with value: -12.222308751760165.\n",
      "[I 2025-08-22 09:27:10,466] Trial 4 finished with value: -13.883753055494516 and parameters: {'a': 6.615360978666978}. Best is trial 0 with value: -12.222308751760165.\n",
      "[I 2025-08-22 09:27:13,032] Trial 5 finished with value: -13.779952908965964 and parameters: {'a': 0.6545953049064734}. Best is trial 0 with value: -12.222308751760165.\n",
      "[I 2025-08-22 09:27:15,602] Trial 6 finished with value: -13.236628041348565 and parameters: {'a': 2.3391969489533393}. Best is trial 0 with value: -12.222308751760165.\n",
      "[I 2025-08-22 09:27:18,167] Trial 7 finished with value: -12.03784766537712 and parameters: {'a': 2.4078761695116615}. Best is trial 7 with value: -12.03784766537712.\n",
      "[I 2025-08-22 09:27:20,732] Trial 8 finished with value: -14.209246883173039 and parameters: {'a': 5.407539243609324}. Best is trial 7 with value: -12.03784766537712.\n",
      "[I 2025-08-22 09:27:23,299] Trial 9 finished with value: -16.888802786030475 and parameters: {'a': 8.150357898167805}. Best is trial 7 with value: -12.03784766537712.\n",
      "[I 2025-08-22 09:27:25,867] Trial 10 finished with value: -11.831123453011248 and parameters: {'a': 3.384939221912414}. Best is trial 10 with value: -11.831123453011248.\n",
      "[I 2025-08-22 09:27:28,436] Trial 11 finished with value: -14.35069578040254 and parameters: {'a': 3.401312584187307}. Best is trial 10 with value: -11.831123453011248.\n",
      "[I 2025-08-22 09:27:31,010] Trial 12 finished with value: -12.399548010012932 and parameters: {'a': 3.812893558456307}. Best is trial 10 with value: -11.831123453011248.\n",
      "[I 2025-08-22 09:27:33,580] Trial 13 finished with value: -13.57569063445709 and parameters: {'a': 4.346097952834185}. Best is trial 10 with value: -11.831123453011248.\n",
      "[I 2025-08-22 09:27:36,139] Trial 14 finished with value: -12.533976281588465 and parameters: {'a': 2.4933606347709203}. Best is trial 10 with value: -11.831123453011248.\n",
      "[I 2025-08-22 09:27:38,699] Trial 15 finished with value: -17.053596071094603 and parameters: {'a': 5.52923800738803}. Best is trial 10 with value: -11.831123453011248.\n",
      "[I 2025-08-22 09:27:41,262] Trial 16 finished with value: -26.42819719058171 and parameters: {'a': 9.939383142890176}. Best is trial 10 with value: -11.831123453011248.\n",
      "[I 2025-08-22 09:27:43,822] Trial 17 finished with value: -12.469966741412431 and parameters: {'a': 2.324552609882936}. Best is trial 10 with value: -11.831123453011248.\n",
      "[I 2025-08-22 09:27:46,377] Trial 18 finished with value: -13.057112515607544 and parameters: {'a': 3.1716703324870537}. Best is trial 10 with value: -11.831123453011248.\n",
      "[I 2025-08-22 09:27:48,932] Trial 19 finished with value: -13.282309586000599 and parameters: {'a': 1.4346314363837624}. Best is trial 10 with value: -11.831123453011248.\n",
      "[I 2025-08-22 09:27:51,492] Trial 20 finished with value: -15.65516505448105 and parameters: {'a': 4.741805744523761}. Best is trial 10 with value: -11.831123453011248.\n",
      "[I 2025-08-22 09:27:54,049] Trial 21 finished with value: -12.266859743165877 and parameters: {'a': 1.40143084258629}. Best is trial 10 with value: -11.831123453011248.\n",
      "[I 2025-08-22 09:27:56,606] Trial 22 finished with value: -11.425023898184648 and parameters: {'a': 1.736861102868803}. Best is trial 22 with value: -11.425023898184648.\n",
      "[I 2025-08-22 09:27:59,155] Trial 23 finished with value: -12.272293636424665 and parameters: {'a': 2.8326125911514533}. Best is trial 22 with value: -11.425023898184648.\n",
      "[I 2025-08-22 09:28:01,712] Trial 24 finished with value: -14.398968584232462 and parameters: {'a': 3.9761792823985482}. Best is trial 22 with value: -11.425023898184648.\n",
      "[I 2025-08-22 09:28:01,713] A new study created in memory with name: no-name-30a950a9-2ef0-4b4c-9656-4d18831b9796\n",
      "[I 2025-08-22 09:28:04,318] Trial 0 finished with value: -16.55152604504833 and parameters: {'a': 6.233987762552992}. Best is trial 0 with value: -16.55152604504833.\n",
      "[I 2025-08-22 09:28:06,924] Trial 1 finished with value: -21.548654581069616 and parameters: {'a': 9.416191015124603}. Best is trial 0 with value: -16.55152604504833.\n",
      "[I 2025-08-22 09:28:09,531] Trial 2 finished with value: -11.89200446950132 and parameters: {'a': 2.041490516574649}. Best is trial 2 with value: -11.89200446950132.\n",
      "[I 2025-08-22 09:28:12,128] Trial 3 finished with value: -14.153271812768693 and parameters: {'a': 6.847470516093055}. Best is trial 2 with value: -11.89200446950132.\n",
      "[I 2025-08-22 09:28:14,737] Trial 4 finished with value: -15.224760573121795 and parameters: {'a': 5.843578738730052}. Best is trial 2 with value: -11.89200446950132.\n",
      "[I 2025-08-22 09:28:17,344] Trial 5 finished with value: -14.703488222314508 and parameters: {'a': 5.728270304394194}. Best is trial 2 with value: -11.89200446950132.\n",
      "[I 2025-08-22 09:28:19,953] Trial 6 finished with value: -22.973370774386893 and parameters: {'a': 8.383765821332936}. Best is trial 2 with value: -11.89200446950132.\n",
      "[I 2025-08-22 09:28:22,555] Trial 7 finished with value: -19.763965899574597 and parameters: {'a': 8.081108442538532}. Best is trial 2 with value: -11.89200446950132.\n",
      "[I 2025-08-22 09:28:25,161] Trial 8 finished with value: -14.820727999540772 and parameters: {'a': 4.590376588362723}. Best is trial 2 with value: -11.89200446950132.\n",
      "[I 2025-08-22 09:28:27,769] Trial 9 finished with value: -12.802077741826022 and parameters: {'a': 3.953240546249439}. Best is trial 2 with value: -11.89200446950132.\n",
      "[I 2025-08-22 09:28:30,371] Trial 10 finished with value: -13.531088034180632 and parameters: {'a': 0.7842248836783006}. Best is trial 2 with value: -11.89200446950132.\n",
      "[I 2025-08-22 09:28:32,976] Trial 11 finished with value: -13.69793655012174 and parameters: {'a': 2.320994592546283}. Best is trial 2 with value: -11.89200446950132.\n",
      "[I 2025-08-22 09:28:35,579] Trial 12 finished with value: -12.255433030544117 and parameters: {'a': 2.942091293036132}. Best is trial 2 with value: -11.89200446950132.\n",
      "[I 2025-08-22 09:28:38,185] Trial 13 finished with value: -12.598876853649033 and parameters: {'a': 2.6307007657172825}. Best is trial 2 with value: -11.89200446950132.\n",
      "[I 2025-08-22 09:28:40,789] Trial 14 finished with value: -14.336966229935335 and parameters: {'a': 0.16706438027123616}. Best is trial 2 with value: -11.89200446950132.\n",
      "[I 2025-08-22 09:28:43,398] Trial 15 finished with value: -13.20918296192724 and parameters: {'a': 2.4331318864920957}. Best is trial 2 with value: -11.89200446950132.\n",
      "[I 2025-08-22 09:28:46,008] Trial 16 finished with value: -13.057155083760474 and parameters: {'a': 3.720074562567157}. Best is trial 2 with value: -11.89200446950132.\n",
      "[I 2025-08-22 09:28:48,613] Trial 17 finished with value: -11.782519492868998 and parameters: {'a': 1.4169661257061203}. Best is trial 17 with value: -11.782519492868998.\n",
      "[I 2025-08-22 09:28:51,229] Trial 18 finished with value: -13.235637310139666 and parameters: {'a': 1.0517641399838804}. Best is trial 17 with value: -11.782519492868998.\n",
      "[I 2025-08-22 09:28:53,839] Trial 19 finished with value: -12.516354633974537 and parameters: {'a': 1.2948583886196412}. Best is trial 17 with value: -11.782519492868998.\n",
      "[I 2025-08-22 09:28:56,446] Trial 20 finished with value: -13.599999327350554 and parameters: {'a': 1.6664408155176018}. Best is trial 17 with value: -11.782519492868998.\n",
      "[I 2025-08-22 09:28:59,051] Trial 21 finished with value: -12.302775220959004 and parameters: {'a': 2.961792225748043}. Best is trial 17 with value: -11.782519492868998.\n",
      "[I 2025-08-22 09:29:01,665] Trial 22 finished with value: -14.409649746340456 and parameters: {'a': 3.4352173609049155}. Best is trial 17 with value: -11.782519492868998.\n",
      "[I 2025-08-22 09:29:04,276] Trial 23 finished with value: -13.127331639850267 and parameters: {'a': 1.7899825321657414}. Best is trial 17 with value: -11.782519492868998.\n",
      "[I 2025-08-22 09:29:06,940] Trial 24 finished with value: -14.2373560010892 and parameters: {'a': 4.663814760985526}. Best is trial 17 with value: -11.782519492868998.\n",
      "[I 2025-08-22 09:29:06,942] A new study created in memory with name: no-name-8f4f9a52-1edb-4d08-9984-a08be769f557\n",
      "[I 2025-08-22 09:29:09,636] Trial 0 finished with value: -23.089044509478402 and parameters: {'a': 9.55685997979}. Best is trial 0 with value: -23.089044509478402.\n"
     ]
    }
   ],
   "source": [
    "simresult_a = []\n",
    "simresult_y = []\n",
    "simresult_s = []\n",
    "canonical_i, precision_i, states_i = canonical_0, precision_0, copy.deepcopy(states)\n",
    "\n",
    "for j in range(DATA_LEN):\n",
    "    alpha_i = ALPHA0 if j < CP else ALPHA1\n",
    "    beta_i = BETA0 if j < CP else BETA1\n",
    "    study_bcmix = optuna.create_study(direction=\"maximize\")\n",
    "    study_bcmix.optimize(objective_bcmix, n_trials=N_TRIALS)\n",
    "    a_bcmix = study_bcmix.best_trial.params['a']\n",
    "    y_bcmix, alpha_i, beta_i = env_response(a_bcmix, alpha_i, beta_i, mean_true=None, covm_true=None, p=0, err=err[j])\n",
    "    states_i = update_with_change(states_i, a_bcmix, y_bcmix, p=P)\n",
    "    simresult_a.append(a_bcmix)\n",
    "    simresult_y.append(y_bcmix)# * SIGMA)\n",
    "    simresult_s.append(states_i)"
   ]
  },
  {
   "cell_type": "code",
   "execution_count": null,
   "id": "025a8482",
   "metadata": {},
   "outputs": [],
   "source": [
    "plt.plot(simresult_y, color=\"red\")\n",
    "plt.plot(pce[\"EXPINF1YR\"].values[48:], color=\"blue\")"
   ]
  },
  {
   "cell_type": "code",
   "execution_count": null,
   "id": "72412ddf",
   "metadata": {},
   "outputs": [],
   "source": [
    "plt.plot(simresult_a, color=\"red\")\n",
    "plt.plot(fed[\"FEDFUNDS\"].values[48:], color=\"blue\")"
   ]
  },
  {
   "cell_type": "code",
   "execution_count": null,
   "id": "cfffed1d",
   "metadata": {},
   "outputs": [],
   "source": []
  }
 ],
 "metadata": {
  "kernelspec": {
   "display_name": "Python 3",
   "language": "python",
   "name": "python3"
  },
  "language_info": {
   "codemirror_mode": {
    "name": "ipython",
    "version": 3
   },
   "file_extension": ".py",
   "mimetype": "text/x-python",
   "name": "python",
   "nbconvert_exporter": "python",
   "pygments_lexer": "ipython3",
   "version": "3.11.4"
  }
 },
 "nbformat": 4,
 "nbformat_minor": 5
}
