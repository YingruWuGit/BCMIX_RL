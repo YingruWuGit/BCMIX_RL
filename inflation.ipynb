{
 "cells": [
  {
   "cell_type": "code",
   "execution_count": 1,
   "id": "46ca47cc",
   "metadata": {},
   "outputs": [
    {
     "name": "stderr",
     "output_type": "stream",
     "text": [
      "c:\\Users\\Andrew\\AppData\\Local\\Programs\\Python\\Python311\\Lib\\site-packages\\tqdm\\auto.py:21: TqdmWarning: IProgress not found. Please update jupyter and ipywidgets. See https://ipywidgets.readthedocs.io/en/stable/user_install.html\n",
      "  from .autonotebook import tqdm as notebook_tqdm\n"
     ]
    }
   ],
   "source": [
    "import copy\n",
    "import optuna\n",
    "import numpy as np\n",
    "import pandas as pd\n",
    "import matplotlib.pyplot as plt\n",
    "from sklearn.linear_model import LinearRegression\n",
    "from bcmix import *"
   ]
  },
  {
   "cell_type": "code",
   "execution_count": 2,
   "id": "733b42df",
   "metadata": {},
   "outputs": [],
   "source": [
    "fed = pd.read_csv(\"realdata/FEDFUNDS.csv\")\n",
    "pce = pd.read_csv(\"realdata/EXPINF1YR.csv\")"
   ]
  },
  {
   "cell_type": "code",
   "execution_count": 3,
   "id": "3953668d",
   "metadata": {},
   "outputs": [],
   "source": [
    "X = fed[\"FEDFUNDS\"].values[48:]\n",
    "y = pce[\"EXPINF1YR\"].values[48:]"
   ]
  },
  {
   "cell_type": "code",
   "execution_count": 4,
   "id": "68d1d40f",
   "metadata": {},
   "outputs": [],
   "source": [
    "CP = 91\n",
    "\n",
    "XX = X[:CP].reshape((-1, 1))\n",
    "yy = y[:CP]\n",
    "model0 = LinearRegression().fit(XX, yy)\n",
    "yy_hat = model0.predict(XX)\n",
    "res0 = (yy - yy_hat).reshape((-1, 1))\n",
    "\n",
    "XX = X[CP : len(X)].reshape((-1, 1))\n",
    "yy = y[CP : len(X)]\n",
    "model1 = LinearRegression().fit(XX, yy)\n",
    "yy_hat = model1.predict(XX)\n",
    "res1 = (yy - yy_hat).reshape((-1, 1))"
   ]
  },
  {
   "cell_type": "code",
   "execution_count": 5,
   "id": "c674b80a",
   "metadata": {},
   "outputs": [
    {
     "data": {
      "text/plain": [
       "observation_date    2021-08-01\n",
       "FEDFUNDS                  0.09\n",
       "Name: 139, dtype: object"
      ]
     },
     "execution_count": 5,
     "metadata": {},
     "output_type": "execute_result"
    }
   ],
   "source": [
    "fed.iloc[91 + 48]"
   ]
  },
  {
   "cell_type": "code",
   "execution_count": 6,
   "id": "a670b9b3",
   "metadata": {},
   "outputs": [],
   "source": [
    "SIGMA = ((res0.T @ res0 + res1.T @ res1) / len(y)).item() ** 0.5\n",
    "ALPHA0 = model0.intercept_ / SIGMA\n",
    "ALPHA1 = model1.intercept_ / SIGMA\n",
    "BETA0 = model0.coef_.item() / SIGMA\n",
    "BETA1 = model1.coef_.item() / SIGMA"
   ]
  },
  {
   "cell_type": "code",
   "execution_count": 7,
   "id": "354e2150",
   "metadata": {},
   "outputs": [],
   "source": [
    "err = np.concatenate([res0.flatten(), res1.flatten()]) / SIGMA"
   ]
  },
  {
   "cell_type": "code",
   "execution_count": 8,
   "id": "f119ce8c",
   "metadata": {},
   "outputs": [],
   "source": [
    "ACTION_RANGE = (0.0, 10.0)\n",
    "N_TRIALS = 25\n",
    "DATA_LEN = len(y)\n",
    "P = 0.025"
   ]
  },
  {
   "cell_type": "code",
   "execution_count": null,
   "id": "d668b00d",
   "metadata": {},
   "outputs": [],
   "source": [
    "mean_true = np.array([[2.0], [0.0]])\n",
    "covm_true = np.array([[1.0, 0.0], [0.0, 1.0]])\n",
    "# prior\n",
    "canonical_0 = np.array([[0.0], [0.0]])\n",
    "precision_0 = np.array([[1.0, 0.0], [0.0, 1.0]])\n",
    "for i in range(48):\n",
    "    x = fed[\"FEDFUNDS\"].iloc[i]\n",
    "    X = np.array([[1, x]])\n",
    "    y = pce[\"EXPINF1YR\"].iloc[i] / SIGMA\n",
    "    canonical_0 = canonical_0 + X.T * y\n",
    "    precision_0 = precision_0 + X.T @ X\n",
    "\n",
    "logcon_0 = (np.linalg.slogdet(precision_0)[1] - (canonical_0.T @ np.linalg.inv(precision_0) @ canonical_0).item()) / 2\n",
    "states = {0: {\"can\": canonical_0, \"pre\": precision_0, \"log\": logcon_0, \"pit\": 0.0}}"
   ]
  },
  {
   "cell_type": "code",
   "execution_count": null,
   "id": "19c56593",
   "metadata": {},
   "outputs": [],
   "source": [
    "def objective_bcmix(trial):\n",
    "    a = trial.suggest_float('a', ACTION_RANGE[0], ACTION_RANGE[1])\n",
    "    q = q_myopic_with_change(states_i, a, alpha_i, beta_i, mean_true, covm_true, p=P)\n",
    "    return q"
   ]
  },
  {
   "cell_type": "code",
   "execution_count": null,
   "id": "a1d56aa4",
   "metadata": {},
   "outputs": [],
   "source": [
    "for i in range(1):\n",
    "    simresult_i = []\n",
    "    canonical_i, precision_i, states_i = canonical_0, precision_0, copy.deepcopy(states)\n",
    "\n",
    "    for j in range(DATA_LEN):\n",
    "        alpha_i = ALPHA0 if j < CP else ALPHA1\n",
    "        beta_i = BETA0 if j < CP else BETA1\n",
    "        study_bcmix = optuna.create_study(direction=\"maximize\")\n",
    "        study_bcmix.optimize(objective_bcmix, n_trials=N_TRIALS)\n",
    "        a_bcmix = study_bcmix.best_trial.params['a']\n",
    "        y_bcmix, alpha_i, beta_i = env_response(a_bcmix, alpha_i, beta_i, mean_true=None, covm_true=None, p=0, err=err[j])\n",
    "        states_i = update_with_change(states_i, a_bcmix, y_bcmix, p=P)\n",
    "        simresult_i.append([a_bcmix, y_bcmix * SIGMA])"
   ]
  },
  {
   "cell_type": "code",
   "execution_count": null,
   "id": "025a8482",
   "metadata": {},
   "outputs": [],
   "source": []
  }
 ],
 "metadata": {
  "kernelspec": {
   "display_name": "Python 3",
   "language": "python",
   "name": "python3"
  },
  "language_info": {
   "codemirror_mode": {
    "name": "ipython",
    "version": 3
   },
   "file_extension": ".py",
   "mimetype": "text/x-python",
   "name": "python",
   "nbconvert_exporter": "python",
   "pygments_lexer": "ipython3",
   "version": "3.11.4"
  }
 },
 "nbformat": 4,
 "nbformat_minor": 5
}
