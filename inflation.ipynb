{
 "cells": [
  {
   "cell_type": "code",
   "execution_count": null,
   "id": "46ca47cc",
   "metadata": {},
   "outputs": [],
   "source": [
    "import copy\n",
    "import optuna\n",
    "import numpy as np\n",
    "import pandas as pd\n",
    "import matplotlib.pyplot as plt\n",
    "from sklearn.linear_model import LinearRegression\n",
    "from bcmix import *"
   ]
  },
  {
   "cell_type": "code",
   "execution_count": null,
   "id": "733b42df",
   "metadata": {},
   "outputs": [],
   "source": [
    "fed = pd.read_csv(\"realdata/FEDFUNDS.csv\")\n",
    "pce = pd.read_csv(\"realdata/EXPINF1YR.csv\")"
   ]
  },
  {
   "cell_type": "code",
   "execution_count": null,
   "id": "3953668d",
   "metadata": {},
   "outputs": [],
   "source": [
    "X = fed[\"FEDFUNDS\"].values\n",
    "y = pce[\"EXPINF1YR\"].values"
   ]
  },
  {
   "cell_type": "code",
   "execution_count": null,
   "id": "68d1d40f",
   "metadata": {},
   "outputs": [],
   "source": [
    "CP = 79\n",
    "\n",
    "X0 = X[:CP].reshape((-1, 1))\n",
    "y0 = y[:CP]\n",
    "model0 = LinearRegression().fit(X0, y0)\n",
    "y0_hat = model0.predict(X0)\n",
    "res0 = y0 - y0_hat\n",
    "\n",
    "X1 = X[CP:].reshape((-1, 1))\n",
    "y1 = y[CP:]\n",
    "model1 = LinearRegression().fit(X1, y1)\n",
    "y1_hat = model1.predict(X1)\n",
    "res1 = y1 - y1_hat"
   ]
  },
  {
   "cell_type": "code",
   "execution_count": null,
   "id": "cf7933a3",
   "metadata": {},
   "outputs": [],
   "source": [
    "fed.iloc[CP]"
   ]
  },
  {
   "cell_type": "code",
   "execution_count": null,
   "id": "a670b9b3",
   "metadata": {},
   "outputs": [],
   "source": [
    "SIGMA = ((res0.T @ res0 + res1.T @ res1) / len(y)).item() ** 0.5\n",
    "ALPHA0 = 1.42 / SIGMA\n",
    "ALPHA1 = 0.25 / SIGMA\n",
    "BETA0 = 0.2 / SIGMA\n",
    "BETA1 = -0.1 / SIGMA"
   ]
  },
  {
   "cell_type": "code",
   "execution_count": null,
   "id": "f119ce8c",
   "metadata": {},
   "outputs": [],
   "source": [
    "N_TRIALS = 25\n",
    "DATA_LEN = len(y)\n",
    "P = 0.025"
   ]
  },
  {
   "cell_type": "code",
   "execution_count": null,
   "id": "d668b00d",
   "metadata": {},
   "outputs": [],
   "source": [
    "mean_true = np.array([[2.0 / SIGMA], [0.0]])\n",
    "covm_true = np.array([[1.0, 0.0], [0.0, 1.0]])\n",
    "# prior\n",
    "canonical_0 = np.array([[2.0 / SIGMA], [0.0]])\n",
    "precision_0 = np.array([[1.0, 0.0], [0.0, 1.0]])\n",
    "logcon_0 = (np.linalg.slogdet(precision_0)[1] - (canonical_0.T @ np.linalg.inv(precision_0) @ canonical_0).item()) / 2\n",
    "states = {0: {\"can\": canonical_0, \"pre\": precision_0, \"log\": logcon_0, \"pit\": 0.0}}"
   ]
  },
  {
   "cell_type": "code",
   "execution_count": null,
   "id": "19c56593",
   "metadata": {},
   "outputs": [],
   "source": [
    "def objective_bcmix(trial):\n",
    "    a = trial.suggest_float('a', ACTION_RANGE[0], ACTION_RANGE[1])\n",
    "    q = q_myopic_with_change(states_i, a, alpha_i, beta_i, mean_true, covm_true, p=P)\n",
    "    return q\n",
    "\n",
    "def objective(trial):\n",
    "    a = trial.suggest_float('a', ACTION_RANGE[0], ACTION_RANGE[1])\n",
    "    q = q_myopic_without_change(canonical_i, precision_i, a, alpha_i, beta_i)\n",
    "    return q"
   ]
  },
  {
   "cell_type": "code",
   "execution_count": null,
   "id": "2f07cee4",
   "metadata": {},
   "outputs": [],
   "source": [
    "for i in range(1):\n",
    "    # initialize\n",
    "    simresult_bcmix_i = np.full((DATA_LEN, 6 * (1 + M1 + M2) + 4), 0.0)\n",
    "    simresult_i = np.full((DATA_LEN, 9), np.nan)\n",
    "    canonical_i, precision_i, states_i = canonical_0, precision_0, copy.deepcopy(states)\n",
    "    for j in range(DATA_LEN):\n",
    "        alpha_i = ALPHA0 if j < CP else ALPHA1\n",
    "        beta_i = BETA0 if j < CP else BETA1\n",
    "        # current state\n",
    "        # bcmix model\n",
    "        simresult_bcmix_i[j, 0] = alpha_i\n",
    "        simresult_bcmix_i[j, 1] = beta_i\n",
    "        for m, s in states_i.items():\n",
    "            covm_bcmix_i = np.linalg.inv(s[\"pre\"])\n",
    "            mean_bcmix_i = covm_bcmix_i @ s[\"can\"]\n",
    "            simresult_bcmix_i[j, m * 6 + 2] = mean_bcmix_i[0][0]\n",
    "            simresult_bcmix_i[j, m * 6 + 3] = mean_bcmix_i[1][0]\n",
    "            simresult_bcmix_i[j, m * 6 + 4] = covm_bcmix_i[0][0]\n",
    "            simresult_bcmix_i[j, m * 6 + 5] = covm_bcmix_i[0][1]\n",
    "            simresult_bcmix_i[j, m * 6 + 6] = covm_bcmix_i[1][1]\n",
    "            simresult_bcmix_i[j, m * 6 + 7] = s[\"pit\"]\n",
    "        # old model\n",
    "        simresult_i[j, 0] = alpha_i\n",
    "        simresult_i[j, 1] = beta_i\n",
    "        covm_i = np.linalg.inv(precision_i)\n",
    "        mean_i = covm_i @ canonical_i\n",
    "        simresult_i[j, 2] = mean_i[0][0]\n",
    "        simresult_i[j, 3] = mean_i[1][0]\n",
    "        simresult_i[j, 4] = covm_i[0][0]\n",
    "        simresult_i[j, 5] = covm_i[0][1]\n",
    "        simresult_i[j, 6] = covm_i[1][1]\n",
    "        # select action\n",
    "        # bcmix model\n",
    "        x_myopic_bcmix = myopic_mix(states_i, p=P)\n",
    "        ACTION_RANGE = (x_myopic_bcmix - 2.5, x_myopic_bcmix + 2.5)\n",
    "        study_bcmix = optuna.create_study(direction=\"maximize\")\n",
    "        study_bcmix.optimize(objective_bcmix, n_trials=N_TRIALS)\n",
    "        a_bcmix = study_bcmix.best_trial.params['a']\n",
    "        simresult_bcmix_i[j, -2] = a_bcmix\n",
    "        # old model\n",
    "        x_myopic = myopic(canonical_i, precision_i)\n",
    "        ACTION_RANGE = (x_myopic - 2.5, x_myopic + 2.5)\n",
    "        study = optuna.create_study(direction=\"maximize\")\n",
    "        study.optimize(objective, n_trials=N_TRIALS)\n",
    "        a = study.best_trial.params['a']\n",
    "        simresult_i[j, 7] = a\n",
    "        # update state\n",
    "        # bcmix model\n",
    "        y_bcmix = env_response(a_bcmix, alpha_i, beta_i, mean_true=None, covm_true=None, p=0)[0]\n",
    "        simresult_bcmix_i[j, -1] = y_bcmix * GAMMA\n",
    "        states_i = update_with_change(states_i, a_bcmix, y_bcmix, p=P)\n",
    "        # old model\n",
    "        y = env_response(a, alpha_i, beta_i)[0]\n",
    "        simresult_i[j, 8] = y * GAMMA\n",
    "        canonical_i, precision_i = update_without_change(canonical_i, precision_i, a, y)\n",
    "    np.save(\"realdata\\inf_cgbcmix_\" + str(i) + \".npy\", simresult_bcmix_i)\n",
    "    np.save(\"realdata\\inf_cgold_\" + str(i) + \".npy\", simresult_i)"
   ]
  },
  {
   "cell_type": "code",
   "execution_count": null,
   "id": "025a8482",
   "metadata": {},
   "outputs": [],
   "source": [
    "simresult_bcmix = np.zeros(DATA_LEN)\n",
    "simresult = np.zeros(DATA_LEN)\n",
    "\n",
    "sim = 10\n",
    "for i in range(sim):\n",
    "    simresult_bcmix += np.load(\"realdata\\inf_cgbcmix_\" + str(i) + \".npy\")[:, -1]\n",
    "    simresult += np.load(\"realdata\\inf_cgold_\" + str(i) + \".npy\")[:, -1]\n",
    "\n",
    "simresult_bcmix /= sim\n",
    "simresult /= sim\n",
    "plt.plot(simresult_bcmix, color=\"red\")\n",
    "plt.plot(simresult, color=\"blue\")\n",
    "plt.plot(pce[\"EXPINF1YR\"].values, color=\"black\")"
   ]
  },
  {
   "cell_type": "code",
   "execution_count": null,
   "id": "105e6ccc",
   "metadata": {},
   "outputs": [],
   "source": [
    "simresult_bcmix = np.zeros(DATA_LEN)\n",
    "simresult = np.zeros(DATA_LEN)\n",
    "\n",
    "sim = 10\n",
    "for i in range(sim):\n",
    "    simresult_bcmix += np.load(\"realdata\\inf_cgbcmix_\" + str(i) + \".npy\")[:, -2]\n",
    "    simresult += np.load(\"realdata\\inf_cgold_\" + str(i) + \".npy\")[:, -2]\n",
    "\n",
    "simresult_bcmix /= sim\n",
    "simresult /= sim\n",
    "plt.plot(simresult_bcmix, color=\"red\")\n",
    "plt.plot(simresult, color=\"blue\")\n",
    "plt.plot(pce[\"FEDFUNDS\"].values, color=\"black\")"
   ]
  },
  {
   "cell_type": "code",
   "execution_count": null,
   "id": "cfffed1d",
   "metadata": {},
   "outputs": [],
   "source": []
  }
 ],
 "metadata": {
  "kernelspec": {
   "display_name": "Python 3",
   "language": "python",
   "name": "python3"
  },
  "language_info": {
   "codemirror_mode": {
    "name": "ipython",
    "version": 3
   },
   "file_extension": ".py",
   "mimetype": "text/x-python",
   "name": "python",
   "nbconvert_exporter": "python",
   "pygments_lexer": "ipython3",
   "version": "3.11.4"
  }
 },
 "nbformat": 4,
 "nbformat_minor": 5
}
