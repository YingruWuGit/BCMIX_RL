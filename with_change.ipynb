{
 "cells": [
  {
   "cell_type": "code",
   "execution_count": null,
   "id": "92e88ebb",
   "metadata": {},
   "outputs": [],
   "source": [
    "import numpy as np\n",
    "import optuna\n",
    "import matplotlib.pyplot as plt\n",
    "from bcmix import *"
   ]
  },
  {
   "cell_type": "code",
   "execution_count": null,
   "id": "94d910b1",
   "metadata": {},
   "outputs": [],
   "source": [
    "np.random.seed(16)\n",
    "\n",
    "# prior\n",
    "precision_0 = np.array([[1.0, 0.0], [0.0, 1.0]])\n",
    "canonical_0 = np.array([[1.0], [1.0]])\n",
    "covm_0 = np.linalg.inv(precision_0)\n",
    "mean_0 = covm_0 @ canonical_0\n",
    "\n",
    "precisions_0 = [precision_0]\n",
    "canonicals_0 = [canonical_0]\n",
    "logcons_0 = [np.linalg.slogdet(precision_0)[1] / 2 - (canonical_0.T @ np.linalg.inv(precision_0) @ canonical_0).item() / 2]\n",
    "pit_0 = [0]\n",
    "\n",
    "# true value\n",
    "alpha, beta = np.random.multivariate_normal(mean_0.flatten(), covm_0)\n",
    "print(alpha, beta, myopic(canonical_0, precision_0))"
   ]
  },
  {
   "cell_type": "code",
   "execution_count": null,
   "id": "21eabded",
   "metadata": {},
   "outputs": [],
   "source": [
    "def objective(trial):\n",
    "    p = trial.suggest_float('p', 0.0, 0.1)\n",
    "    loglike = marginal_likelihood(p, canonicals_0, precisions_0, logcons_0, pit_0, xs, ys)\n",
    "    return loglike"
   ]
  },
  {
   "cell_type": "code",
   "execution_count": null,
   "id": "3fb84968",
   "metadata": {},
   "outputs": [],
   "source": [
    "study = optuna.create_study(direction=\"maximize\")\n",
    "study.optimize(objective, n_trials=100)"
   ]
  },
  {
   "cell_type": "code",
   "execution_count": null,
   "id": "4e94bcf0",
   "metadata": {},
   "outputs": [],
   "source": [
    "study.best_trial"
   ]
  },
  {
   "cell_type": "code",
   "execution_count": null,
   "id": "ea126cc3",
   "metadata": {},
   "outputs": [],
   "source": [
    "def objective_change(trial):\n",
    "    a = trial.suggest_float('a', -10.0, 10.0)\n",
    "    q = q_myopic_with_change(canonicals_0, precisions_0, logcons_0, pit_0, a, alpha, beta, mean_0, covm_0, p=0.05)\n",
    "    return q"
   ]
  },
  {
   "cell_type": "code",
   "execution_count": null,
   "id": "235414f0",
   "metadata": {},
   "outputs": [],
   "source": [
    "study = optuna.create_study(direction=\"maximize\")\n",
    "study.optimize(objective_change, n_trials=10)"
   ]
  },
  {
   "cell_type": "code",
   "execution_count": null,
   "id": "066a215a",
   "metadata": {},
   "outputs": [],
   "source": [
    "study.best_trial"
   ]
  },
  {
   "cell_type": "code",
   "execution_count": null,
   "id": "bc84c680",
   "metadata": {},
   "outputs": [],
   "source": [
    "xs = np.random.uniform(-5.0, 5.0, 100)\n",
    "ys = []\n",
    "for i in range(100):\n",
    "    if i == 100:\n",
    "        alpha, beta = np.random.multivariate_normal(mean_0.flatten(), covm_0)\n",
    "        print(alpha, beta)\n",
    "    ys.append(env_response(xs[i], alpha, beta)[0])\n",
    "ys = np.array(ys)"
   ]
  }
 ],
 "metadata": {
  "language_info": {
   "name": "python"
  }
 },
 "nbformat": 4,
 "nbformat_minor": 5
}
