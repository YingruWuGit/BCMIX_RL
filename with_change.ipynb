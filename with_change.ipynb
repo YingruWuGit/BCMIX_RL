{
 "cells": [
  {
   "cell_type": "code",
   "execution_count": null,
   "id": "92e88ebb",
   "metadata": {},
   "outputs": [],
   "source": [
    "import numpy as np\n",
    "import optuna\n",
    "import copy\n",
    "import matplotlib.pyplot as plt\n",
    "from bcmix import *"
   ]
  },
  {
   "cell_type": "code",
   "execution_count": null,
   "id": "7df1a8b0",
   "metadata": {},
   "outputs": [],
   "source": [
    "ACTION_RANGE = (-5.0, 5.0)\n",
    "N_TRIALS = 5\n",
    "DATA_LEN = 8\n",
    "P = 0.025"
   ]
  },
  {
   "cell_type": "code",
   "execution_count": null,
   "id": "94d910b1",
   "metadata": {},
   "outputs": [],
   "source": [
    "# true value\n",
    "alpha, beta = 1.8, -2.4\n",
    "mean_true = np.array([[0.0], [0.0]])\n",
    "covm_true = np.array([[2.0, 0.0], [0.0, 2.0]])\n",
    "\n",
    "# prior\n",
    "canonical_0 = np.array([[0.0], [0.0]])\n",
    "precision_0 = np.array([[1.0, 0.0], [0.0, 1.0]])\n",
    "logcon_0 = (np.linalg.slogdet(precision_0)[1] - (canonical_0.T @ np.linalg.inv(precision_0) @ canonical_0).item()) / 2\n",
    "states = {0: {\"can\": canonical_0, \"pre\": precision_0, \"log\": logcon_0, \"pit\": 0.0}}\n",
    "\n",
    "print(alpha, beta, myopic(canonical_0, precision_0))"
   ]
  },
  {
   "cell_type": "markdown",
   "id": "794a8822",
   "metadata": {},
   "source": [
    "### Rollout with BCMIX"
   ]
  },
  {
   "cell_type": "code",
   "execution_count": null,
   "id": "704c1a54",
   "metadata": {},
   "outputs": [],
   "source": [
    "def objective_bcmix(trial):\n",
    "    a = trial.suggest_float('a', ACTION_RANGE[0], ACTION_RANGE[1])\n",
    "    q = q_myopic_with_change(states_i, a, alpha_i, beta_i, mean_true, covm_true, p=P)\n",
    "    return q"
   ]
  },
  {
   "cell_type": "code",
   "execution_count": null,
   "id": "b4f31e1a",
   "metadata": {},
   "outputs": [],
   "source": [
    "for i in range(1):\n",
    "    # initialize\n",
    "    simresult_i = np.full((DATA_LEN * N_TRIALS, 6 * (1 + M1 + M2) + 2), 0.0)\n",
    "    states_i, alpha_i, beta_i = copy.deepcopy(states), alpha, beta\n",
    "    for j in range(DATA_LEN):\n",
    "        js = j * N_TRIALS\n",
    "        je = js + N_TRIALS\n",
    "        # current state\n",
    "        for m, s in states_i.items():\n",
    "            covm_i = np.linalg.inv(s[\"pre\"])\n",
    "            mean_i = covm_i @ s[\"can\"]\n",
    "            simresult_i[js : je, m * 6] = mean_i[0][0]\n",
    "            simresult_i[js : je, m * 6 + 1] = mean_i[1][0]\n",
    "            simresult_i[js : je, m * 6 + 2] = covm_i[0][0]\n",
    "            simresult_i[js : je, m * 6 + 3] = covm_i[0][1]\n",
    "            simresult_i[js : je, m * 6 + 4] = covm_i[1][1]\n",
    "            simresult_i[js : je, m * 6 + 5] = s[\"pit\"]\n",
    "        # select action\n",
    "        study = optuna.create_study(direction=\"maximize\")\n",
    "        study.optimize(objective_bcmix, n_trials=N_TRIALS)\n",
    "        simresult_i[js : je, -2] = [_.params['a'] for _ in study.trials]\n",
    "        simresult_i[js : je, -1] = [_.value for _ in study.trials]\n",
    "        a = study.best_trial.params['a']\n",
    "        # update state\n",
    "        y, alpha_i, beta_i = env_response(a, alpha_i, beta_i, mean_true, covm_true, p=P)\n",
    "        states_i = update_with_change(states_i, a, y, p=P)\n",
    "    np.save(\"simulations\\sim_rollchbcmix_\" + str(i) + \".npy\", simresult_i)"
   ]
  },
  {
   "cell_type": "markdown",
   "id": "e4d872f0",
   "metadata": {},
   "source": [
    "### Simulate data"
   ]
  },
  {
   "cell_type": "code",
   "execution_count": null,
   "id": "492f561a",
   "metadata": {},
   "outputs": [],
   "source": [
    "xs = np.random.uniform(ACTION_RANGE[0], ACTION_RANGE[1], DATA_LEN)\n",
    "ys = [env_response(x, alpha, beta)[0] for x in xs[: (DATA_LEN // 2)]]\n",
    "alpha_new, beta_new = np.random.multivariate_normal(mean_true.flatten(), covm_true)\n",
    "print(alpha_new, beta_new)\n",
    "ys = np.array(ys + [env_response(x, alpha_new, beta_new)[0] for x in xs[(DATA_LEN // 2) : DATA_LEN]])"
   ]
  },
  {
   "cell_type": "code",
   "execution_count": null,
   "id": "21a286a4",
   "metadata": {},
   "outputs": [],
   "source": []
  }
 ],
 "metadata": {
  "kernelspec": {
   "display_name": "Python 3",
   "language": "python",
   "name": "python3"
  },
  "language_info": {
   "codemirror_mode": {
    "name": "ipython",
    "version": 3
   },
   "file_extension": ".py",
   "mimetype": "text/x-python",
   "name": "python",
   "nbconvert_exporter": "python",
   "pygments_lexer": "ipython3",
   "version": "3.11.4"
  }
 },
 "nbformat": 4,
 "nbformat_minor": 5
}
