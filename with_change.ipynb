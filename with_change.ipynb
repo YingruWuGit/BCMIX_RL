{
 "cells": [
  {
   "cell_type": "code",
   "execution_count": null,
   "id": "92e88ebb",
   "metadata": {},
   "outputs": [],
   "source": [
    "import copy\n",
    "import optuna\n",
    "import numpy as np\n",
    "import matplotlib.pyplot as plt\n",
    "from bcmix import *"
   ]
  },
  {
   "cell_type": "code",
   "execution_count": null,
   "id": "7df1a8b0",
   "metadata": {},
   "outputs": [],
   "source": [
    "ACTION_RANGE = (-5.0, 5.0)\n",
    "N_TRIALS = 25\n",
    "DATA_LEN = 81\n",
    "P = 0.025"
   ]
  },
  {
   "cell_type": "code",
   "execution_count": null,
   "id": "94d910b1",
   "metadata": {},
   "outputs": [],
   "source": [
    "# true value\n",
    "alpha, beta = -1.8, 2.2\n",
    "mean_true = np.array([[4.0], [2.0]])\n",
    "covm_true = np.array([[1.0, 0.0], [0.0, 1.0]])\n",
    "\n",
    "# prior\n",
    "canonical_0 = np.array([[4.0], [2.0]])\n",
    "precision_0 = np.array([[1.0, 0.0], [0.0, 1.0]])\n",
    "logcon_0 = (np.linalg.slogdet(precision_0)[1] - (canonical_0.T @ np.linalg.inv(precision_0) @ canonical_0).item()) / 2\n",
    "states = {0: {\"can\": canonical_0, \"pre\": precision_0, \"log\": logcon_0, \"pit\": 0.0}}\n",
    "\n",
    "print(alpha, beta, myopic(canonical_0, precision_0))"
   ]
  },
  {
   "cell_type": "markdown",
   "id": "794a8822",
   "metadata": {},
   "source": [
    "### Rollout"
   ]
  },
  {
   "cell_type": "code",
   "execution_count": null,
   "id": "704c1a54",
   "metadata": {},
   "outputs": [],
   "source": [
    "def objective_bcmix(trial):\n",
    "    a = trial.suggest_float('a', ACTION_RANGE[0], ACTION_RANGE[1])\n",
    "    q = q_myopic_with_change(states_i, a, alpha_i, beta_i, mean_true, covm_true, P)\n",
    "    return q\n",
    "\n",
    "def objective(trial):\n",
    "    a = trial.suggest_float('a', ACTION_RANGE[0], ACTION_RANGE[1])\n",
    "    q = q_myopic_without_change(canonical_i, precision_i, a, alpha_i, beta_i)\n",
    "    return q"
   ]
  },
  {
   "cell_type": "code",
   "execution_count": null,
   "id": "08a04aa9",
   "metadata": {},
   "outputs": [],
   "source": [
    "def valid_param(alpha_new, beta_new):\n",
    "    optimal_a = (W * XSTAR + beta_new * YSTAR - alpha_new * beta_new) / (beta_new ** 2 + W)\n",
    "    return (optimal_a > ACTION_RANGE[0]) and (optimal_a < ACTION_RANGE[1])"
   ]
  },
  {
   "cell_type": "code",
   "execution_count": null,
   "id": "b4f31e1a",
   "metadata": {},
   "outputs": [],
   "source": [
    "for i in range(1):\n",
    "    # initialize\n",
    "    simresult_bcmix_i = np.full((DATA_LEN, 6 * (1 + M1 + M2) + 5), 0.0)\n",
    "    simresult_i = np.full((DATA_LEN, 10), np.nan)\n",
    "    alpha_i, beta_i = alpha, beta\n",
    "    canonical_i, precision_i, states_i = canonical_0, precision_0, copy.deepcopy(states)\n",
    "    # change point locations\n",
    "    cp_j = np.random.randint(1, 3)\n",
    "    if cp_j == 2:\n",
    "        cp_j = [np.random.randint(5, 31), np.random.randint(50, 76)]\n",
    "    else:\n",
    "        cp_j = [np.random.randint(10, 71)]\n",
    "    # simulate sequence\n",
    "    for j in range(DATA_LEN):\n",
    "        # current state\n",
    "        # bcmix model\n",
    "        for m, s in states_i.items():\n",
    "            simresult_bcmix_i[j, 0] = alpha_i\n",
    "            simresult_bcmix_i[j, 1] = beta_i\n",
    "            covm_bcmix_i = np.linalg.inv(s[\"pre\"])\n",
    "            mean_bcmix_i = covm_bcmix_i @ s[\"can\"]\n",
    "            simresult_bcmix_i[j, m * 6 + 2] = mean_bcmix_i[0][0]\n",
    "            simresult_bcmix_i[j, m * 6 + 3] = mean_bcmix_i[1][0]\n",
    "            simresult_bcmix_i[j, m * 6 + 4] = covm_bcmix_i[0][0]\n",
    "            simresult_bcmix_i[j, m * 6 + 5] = covm_bcmix_i[0][1]\n",
    "            simresult_bcmix_i[j, m * 6 + 6] = covm_bcmix_i[1][1]\n",
    "            simresult_bcmix_i[j, m * 6 + 7] = s[\"pit\"]\n",
    "        # old model\n",
    "        simresult_i[j, 0] = alpha_i\n",
    "        simresult_i[j, 1] = beta_i\n",
    "        covm_i = np.linalg.inv(precision_i)\n",
    "        mean_i = covm_i @ canonical_i\n",
    "        simresult_i[j, 2] = mean_i[0][0]\n",
    "        simresult_i[j, 3] = mean_i[1][0]\n",
    "        simresult_i[j, 4] = covm_i[0][0]\n",
    "        simresult_i[j, 5] = covm_i[0][1]\n",
    "        simresult_i[j, 6] = covm_i[1][1]\n",
    "        # select action\n",
    "        # bcmix model\n",
    "        study_bcmix = optuna.create_study(direction=\"maximize\")\n",
    "        study_bcmix.optimize(objective_bcmix, n_trials=N_TRIALS)\n",
    "        a_bcmix = study_bcmix.best_trial.params['a']\n",
    "        simresult_bcmix_i[j, -3] = a_bcmix\n",
    "        simresult_bcmix_i[j, -2] = study_bcmix.best_trial.value\n",
    "        # old model\n",
    "        study = optuna.create_study(direction=\"maximize\")\n",
    "        study.optimize(objective, n_trials=N_TRIALS)\n",
    "        a = study.best_trial.params['a']\n",
    "        simresult_i[j, 7] = a\n",
    "        simresult_i[j, 8] = study.best_trial.value\n",
    "        # update state\n",
    "        # bcmix model\n",
    "        if j in cp_j:\n",
    "            alpha_i, beta_i = np.random.multivariate_normal(mean_true.flatten(), covm_true)\n",
    "            while not valid_param(alpha_i, beta_i):\n",
    "                alpha_i, beta_i = np.random.multivariate_normal(mean_true.flatten(), covm_true)\n",
    "        y_bcmix, alpha_i, beta_i = env_response(a_bcmix, alpha_i, beta_i, None, None, 0)\n",
    "        simresult_bcmix_i[j, -1] = reward(a_bcmix, y_bcmix)\n",
    "        states_i = update_with_change(states_i, a_bcmix, y_bcmix, P)\n",
    "        # old model\n",
    "        y = env_response(a, alpha_i, beta_i)[0]\n",
    "        simresult_i[j, 9] = y\n",
    "        canonical_i, precision_i = update_without_change(canonical_i, precision_i, a, y)\n",
    "    np.save(\"simulations\\sim_cpbcmix_\" + str(i) + \".npy\", simresult_bcmix_i)\n",
    "    np.save(\"simulations\\sim_cpold_\" + str(i) + \".npy\", simresult_i)\n"
   ]
  },
  {
   "cell_type": "code",
   "execution_count": null,
   "id": "7bf02a8d",
   "metadata": {},
   "outputs": [],
   "source": [
    "for i in range(200):\n",
    "    # initialize\n",
    "    simresult_myopic_i = np.full((DATA_LEN, 6 * (1 + M1 + M2) + 5), 0.0)\n",
    "    alpha_i, beta_i = alpha, beta\n",
    "    states_i = copy.deepcopy(states)\n",
    "    # change point locations\n",
    "    cp_j = np.random.randint(1, 3)\n",
    "    if cp_j == 2:\n",
    "        cp_j = [np.random.randint(1, 41), np.random.randint(41, 81)]\n",
    "    else:\n",
    "        cp_j = [np.random.randint(1, 81)]\n",
    "    # simulate sequence\n",
    "    for j in range(DATA_LEN):\n",
    "        # current state\n",
    "        for m, s in states_i.items():\n",
    "            simresult_myopic_i[j, 0] = alpha_i\n",
    "            simresult_myopic_i[j, 1] = beta_i\n",
    "            covm_bcmix_i = np.linalg.inv(s[\"pre\"])\n",
    "            mean_bcmix_i = covm_bcmix_i @ s[\"can\"]\n",
    "            simresult_myopic_i[j, m * 6 + 2] = mean_bcmix_i[0][0]\n",
    "            simresult_myopic_i[j, m * 6 + 3] = mean_bcmix_i[1][0]\n",
    "            simresult_myopic_i[j, m * 6 + 4] = covm_bcmix_i[0][0]\n",
    "            simresult_myopic_i[j, m * 6 + 5] = covm_bcmix_i[0][1]\n",
    "            simresult_myopic_i[j, m * 6 + 6] = covm_bcmix_i[1][1]\n",
    "            simresult_myopic_i[j, m * 6 + 7] = s[\"pit\"]\n",
    "        # select action\n",
    "        a_myopic = myopic_mix(states_i, P)\n",
    "        simresult_myopic_i[j, -3] = a_myopic\n",
    "        #simresult_myopic_i[j, -2] = q_myopic_with_change(states_i, a_myopic, alpha_i, beta_i, mean_true, covm_true, P)\n",
    "        # update state\n",
    "        if j in cp_j:\n",
    "            alpha_i, beta_i = np.random.multivariate_normal(mean_true.flatten(), covm_true)\n",
    "            while not valid_param(alpha_i, beta_i):\n",
    "                alpha_i, beta_i = np.random.multivariate_normal(mean_true.flatten(), covm_true)\n",
    "        y_myopic, alpha_i, beta_i = env_response(a_myopic, alpha_i, beta_i, None, None, 0)\n",
    "        simresult_myopic_i[j, -1] = reward(a_myopic, y_myopic)\n",
    "        states_i = update_with_change(states_i, a_myopic, y_myopic, P)\n",
    "    np.save(\"simulations\\sim_cpmyopic_\" + str(i) + \".npy\", simresult_myopic_i)\n"
   ]
  },
  {
   "cell_type": "markdown",
   "id": "0ed5bad1",
   "metadata": {},
   "source": [
    "### Plot"
   ]
  },
  {
   "cell_type": "code",
   "execution_count": null,
   "id": "ed646a9e",
   "metadata": {},
   "outputs": [],
   "source": [
    "regrets_bcmix = np.full(DATA_LEN, 0.0)\n",
    "regrets = np.full(DATA_LEN, 0.0)\n",
    "\n",
    "for i in range(1):\n",
    "    simresult_bcmix_i = np.load(\"simulations\\sim_cpbcmix_\" + str(i) + \".npy\")\n",
    "    simresult_i = np.load(\"simulations\\sim_cpold_\" + str(i) + \".npy\")\n",
    "    for j in range(DATA_LEN):\n",
    "        alpha, beta = simresult_bcmix_i[j, 0], simresult_bcmix_i[j, 1]\n",
    "        regrets_bcmix[j] += (GAMMA ** j) * (alpha + simresult_bcmix_i[j, -3] * beta) ** 2\n",
    "        regrets[j] += (GAMMA ** j) * (alpha + simresult_i[j, 7] * beta) ** 2\n",
    "\n",
    "regrets_bcmix /= 1\n",
    "regrets /= 1"
   ]
  },
  {
   "cell_type": "code",
   "execution_count": null,
   "id": "594c2526",
   "metadata": {},
   "outputs": [],
   "source": [
    "# plot regret\n",
    "plt.plot(np.cumsum(regrets_bcmix), color=\"red\")\n",
    "plt.plot(np.cumsum(regrets), color=\"blue\")"
   ]
  },
  {
   "cell_type": "code",
   "execution_count": null,
   "id": "aed3f068",
   "metadata": {},
   "outputs": [],
   "source": []
  }
 ],
 "metadata": {
  "kernelspec": {
   "display_name": "Python 3",
   "language": "python",
   "name": "python3"
  },
  "language_info": {
   "codemirror_mode": {
    "name": "ipython",
    "version": 3
   },
   "file_extension": ".py",
   "mimetype": "text/x-python",
   "name": "python",
   "nbconvert_exporter": "python",
   "pygments_lexer": "ipython3",
   "version": "3.11.4"
  }
 },
 "nbformat": 4,
 "nbformat_minor": 5
}
