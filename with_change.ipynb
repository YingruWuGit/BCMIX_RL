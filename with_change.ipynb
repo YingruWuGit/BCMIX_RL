{
 "cells": [
  {
   "cell_type": "code",
   "execution_count": null,
   "id": "92e88ebb",
   "metadata": {},
   "outputs": [],
   "source": [
    "import numpy as np\n",
    "import optuna\n",
    "import matplotlib.pyplot as plt\n",
    "from bcmix import *"
   ]
  },
  {
   "cell_type": "code",
   "execution_count": null,
   "id": "7df1a8b0",
   "metadata": {},
   "outputs": [],
   "source": [
    "ACTION_RANGE = (-5.0, 5.0)\n",
    "N_TRIALS = 100\n",
    "DATA_LEN = 80\n",
    "P = 0.04"
   ]
  },
  {
   "cell_type": "code",
   "execution_count": null,
   "id": "94d910b1",
   "metadata": {},
   "outputs": [],
   "source": [
    "# prior\n",
    "mean_0 = np.array([[0.0], [0.0]])\n",
    "covm_0 = np.array([[2.0, 0.0], [0.0, 2.0]])\n",
    "\n",
    "canonical_0 = np.array([[0.0], [0.0]])\n",
    "precision_0 = np.array([[1.0, 0.0], [0.0, 1.0]])\n",
    "canonicals_0 = [canonical_0]\n",
    "precisions_0 = [precision_0]\n",
    "logcons_0 = [np.linalg.slogdet(precision_0)[1] / 2 - (canonical_0.T @ np.linalg.inv(precision_0) @ canonical_0).item() / 2]\n",
    "pit_0 = [0]\n",
    "\n",
    "# true value\n",
    "alpha, beta = 1.8, -2.4\n",
    "print(alpha, beta, myopic(canonical_0, precision_0))"
   ]
  },
  {
   "cell_type": "markdown",
   "id": "794a8822",
   "metadata": {},
   "source": [
    "### Rollout with BCMIX"
   ]
  },
  {
   "cell_type": "code",
   "execution_count": null,
   "id": "704c1a54",
   "metadata": {},
   "outputs": [],
   "source": [
    "def objective_bcmix(trial):\n",
    "    a = trial.suggest_float('a', ACTION_RANGE[0], ACTION_RANGE[1])\n",
    "    q = q_myopic_with_change(canonicals_i, precisions_i, logcons_i, pit_i, a, alpha_i, beta_i, mean_0, covm_0, p=P)\n",
    "    return q"
   ]
  },
  {
   "cell_type": "code",
   "execution_count": null,
   "id": "b4f31e1a",
   "metadata": {},
   "outputs": [],
   "source": [
    "for i in range(1):\n",
    "    # initialize\n",
    "    canonicals_i, precisions_i, logcons_i, pit_i = canonicals_0.copy(), precisions_0.copy(), logcons_0.copy(), pit_0.copy()\n",
    "    alpha_i, beta_i = alpha, beta\n",
    "    for j in range(DATA_LEN):\n",
    "        # current state\n",
    "        # select action\n",
    "        #study = optuna.create_study(direction=\"maximize\")\n",
    "        #study.optimize(objective_bcmix, n_trials=N_TRIALS)\n",
    "        #a = study.best_trial.params['a']\n",
    "        a = np.random.uniform(ACTION_RANGE[0], ACTION_RANGE[1])\n",
    "        # update state\n",
    "        y, alpha_i, beta_i = env_response(a, alpha_i, beta_i, mean_0, covm_0, p=P)\n",
    "        canonicals_i, precisions_i, logcons_i, pit_i, loglike = update_with_change(canonicals_i, precisions_i, logcons_i, pit_i, a, y, p=P)\n",
    "        print(alpha_i, beta_i)\n",
    "        print(pit_i)\n"
   ]
  },
  {
   "cell_type": "code",
   "execution_count": null,
   "id": "21eabded",
   "metadata": {},
   "outputs": [],
   "source": [
    "def objective(trial):\n",
    "    p = trial.suggest_float('p', 0.0, 0.1)\n",
    "    loglike = marginal_likelihood(p, canonicals_0, precisions_0, logcons_0, pit_0, xs, ys)\n",
    "    return loglike"
   ]
  }
 ],
 "metadata": {
  "kernelspec": {
   "display_name": "Python 3",
   "language": "python",
   "name": "python3"
  },
  "language_info": {
   "codemirror_mode": {
    "name": "ipython",
    "version": 3
   },
   "file_extension": ".py",
   "mimetype": "text/x-python",
   "name": "python",
   "nbconvert_exporter": "python",
   "pygments_lexer": "ipython3",
   "version": "3.11.4"
  }
 },
 "nbformat": 4,
 "nbformat_minor": 5
}
